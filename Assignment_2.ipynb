{
 "cells": [
  {
   "cell_type": "code",
   "execution_count": 1,
   "id": "1443cdff",
   "metadata": {},
   "outputs": [],
   "source": [
    "import re\n"
   ]
  },
  {
   "cell_type": "markdown",
   "id": "9aa8d15e",
   "metadata": {},
   "source": [
    "# Assignment 2: Analyzing large datasets with Spark.\n",
    "\n",
    "\n",
    "For this assignment, you will need to make sure you're running from a PySpark docker environment I introduced in class. You can start the docker pySpark docker environment using the following command:\n",
    "\n",
    "```\n",
    "docker run --rm -p 4040:4040 -p 8888:8888 -v $(pwd):/home/jovyan/work jupyter/all-spark-notebook\n",
    "```\n",
    "\n",
    "Make sure you run the command from the directory containing this jupyter notebook and your data folder.\n",
    "\n",
    "\n",
    "</b>\n",
    "# WARNING: For some reason, ipynbb document didn't always sync properly when I was pushing to github. As such, please push often and make sure your incremental changes appear on GitHub.\n",
    "</b>"
   ]
  },
  {
   "cell_type": "markdown",
   "id": "abf74b9e",
   "metadata": {},
   "source": [
    "### Part 1\n",
    "\n",
    "The first part will use Spark to analyze the following books, which I have downloaded for you to use from Project Gutenberg. The files are saved to the data folder.\n",
    "\n",
    "| File name | Book Title|\n",
    "|:---------:|:----------|\n",
    "|43.txt | The Strange Case of Dr. Jekyll and Mr. Hyde by Robert Louis Stevenson|\n",
    "|84.txt | Frankenstein; Or, The Modern Prometheus by Mary Wollstonecraft Shelley |\n",
    "|398.txt  | The First Book of Adam and Eve by Rutherford Hayes Platt|\n",
    "|3296.txt | The Confessions of St. Augustine by Bishop of Hippo Saint Augustine|\n",
    "\n",
    "The objective is to explore whether we can detect similarity between books within the same topic using word-based similarity. \n",
    "\n",
    "The task of identifying similar texts in Natural Language Processing is crucial. A naive method for determining whether two documents are similar is to treat them as collections of words (bag of words) and use the number of words they share as a proxy for their similarity. It makes sense that two books with religion as the topic (e.g.  `398.txt` and `3296.txt`) would have more words in common than a book that discusses religion and a book that discusses science fiction (e.g. books `84.txt` and `398.txt`). \n",
    "\n",
    "As mentioned above, we will be using Spark to analyze the data. Although Spark is not needed for such a small example, the platform would be ideal for analyzing very large collections of documents, like those often analyzed by large corporations\n",
    "\n",
    "This part of the assignment will rely exclusively on RDDs."
   ]
  },
  {
   "cell_type": "markdown",
   "id": "87a15530",
   "metadata": {},
   "source": [
    "### Q1. \n",
    "Start by importing Spark and making sure your environment is set up properly for the assignment.\n",
    "\n",
    "Import the spark context necessary to load a document as an RDD; ignore any error messages"
   ]
  },
  {
   "cell_type": "code",
   "execution_count": 2,
   "id": "e80df4d4",
   "metadata": {},
   "outputs": [
    {
     "name": "stderr",
     "output_type": "stream",
     "text": [
      "WARNING: An illegal reflective access operation has occurred\n",
      "WARNING: Illegal reflective access by org.apache.spark.unsafe.Platform (file:/usr/local/spark-3.1.2-bin-hadoop3.2/jars/spark-unsafe_2.12-3.1.2.jar) to constructor java.nio.DirectByteBuffer(long,int)\n",
      "WARNING: Please consider reporting this to the maintainers of org.apache.spark.unsafe.Platform\n",
      "WARNING: Use --illegal-access=warn to enable warnings of further illegal reflective access operations\n",
      "WARNING: All illegal access operations will be denied in a future release\n",
      "21/10/20 17:34:16 WARN NativeCodeLoader: Unable to load native-hadoop library for your platform... using builtin-java classes where applicable\n",
      "Using Spark's default log4j profile: org/apache/spark/log4j-defaults.properties\n",
      "Setting default log level to \"WARN\".\n",
      "To adjust logging level use sc.setLogLevel(newLevel). For SparkR, use setLogLevel(newLevel).\n"
     ]
    }
   ],
   "source": [
    "import pyspark\n",
    "sc = pyspark.SparkContext()"
   ]
  },
  {
   "cell_type": "markdown",
   "id": "336d5c9d",
   "metadata": {},
   "source": [
    "### Q2 \n",
    "\n",
    "Read in the file `43.txt` as a spark RDD and save it to a variable called `book_43`\n",
    " * make sure `book_43` is of type MapPartitionsRDD, i.e.,\n",
    "   * str(type(book_43)) == \"<class 'pyspark.rdd.RDD'>\" should return True "
   ]
  },
  {
   "cell_type": "code",
   "execution_count": 4,
   "id": "3d4164f5",
   "metadata": {},
   "outputs": [],
   "source": [
    "book_43 = sc.textFile(\"data/43.txt\")\n",
    "\n",
    "assert str(type(book_43)) == \"<class 'pyspark.rdd.RDD'>\""
   ]
  },
  {
   "cell_type": "markdown",
   "id": "0b8c051e",
   "metadata": {},
   "source": [
    "### Q3\n",
    "\n",
    "How many lines does `book_43` contain?\n",
    "* You can only use operations or actions on RDDs to answer the question. \n",
    "  * Code that uses methods such as `some_rdd.X().Y().Z()...` is allowed\n",
    "  * Code that uses functions such as `some_func(...)` is not allowed"
   ]
  },
  {
   "cell_type": "code",
   "execution_count": 9,
   "id": "b3c5a06e",
   "metadata": {},
   "outputs": [
    {
     "name": "stdout",
     "output_type": "stream",
     "text": [
      "book_43 has 2935 lines.\n"
     ]
    }
   ],
   "source": [
    "lines_count = book_43.count()\n",
    "print(f\"book_43 has {lines_count} lines.\")"
   ]
  },
  {
   "cell_type": "markdown",
   "id": "bca2bc6d",
   "metadata": {},
   "source": [
    "### Q4 \n",
    "\n",
    "Prior to analyzing the words contained in this book, we need to first remove the occurrences of non-alphabetical characters and numbers from the text. You can use the following function, which takes a line as input, removes digits and non-word characters, and splits it into a collection of words. \n",
    "\n",
    "```python\n",
    "def clean_split_line(line):\n",
    "    a = re.sub('\\d+', '', line)\n",
    "    b = re.sub('[\\W]+', ' ', a)\n",
    "    return b.upper().split()\n",
    "```\n",
    "\n",
    "Use the fucntion above on the variable (test_line) to see what it returns.\n",
    "```python\n",
    "test_line = \"This is an example of that contains 234 and a dash-containing number\"\n",
    "```"
   ]
  },
  {
   "cell_type": "code",
   "execution_count": 13,
   "id": "55ce2754",
   "metadata": {},
   "outputs": [
    {
     "data": {
      "text/plain": [
       "['THIS',\n",
       " 'IS',\n",
       " 'AN',\n",
       " 'EXAMPLE',\n",
       " 'OF',\n",
       " 'THAT',\n",
       " 'CONTAINS',\n",
       " 'AND',\n",
       " 'A',\n",
       " 'DASH',\n",
       " 'CONTAINING',\n",
       " 'NUMBER']"
      ]
     },
     "execution_count": 13,
     "metadata": {},
     "output_type": "execute_result"
    }
   ],
   "source": [
    "def clean_split_line(line):\n",
    "    a = re.sub('\\d+', '', line)\n",
    "    b = re.sub('[\\W]+', ' ', a)\n",
    "    return b.upper().split()\n",
    "\n",
    "test_line = \"This is an example of that contains 234 and a dash-containing number\"\n",
    "clean_split_line(test_line)"
   ]
  },
  {
   "cell_type": "markdown",
   "id": "b5e951e5",
   "metadata": {},
   "source": [
    "### Q5\n",
    "\n",
    "How many words does `book_43` contain? To answer this question, you may find it useful to apply the function in a spark-fashion. \n",
    "* You can only use operations or actions on RDDs to answer the question. \n",
    "  * Code that uses methods such as `some_rdd.X().Y().Z()...` is allowed\n",
    "  * Code that uses functions such as `some_func(...)` is not allowed\n"
   ]
  },
  {
   "cell_type": "code",
   "execution_count": 25,
   "id": "99c1b93f",
   "metadata": {},
   "outputs": [
    {
     "name": "stdout",
     "output_type": "stream",
     "text": [
      "29116\n"
     ]
    }
   ],
   "source": [
    "book_43_clean = book_43.map(clean_split_line)\n",
    "lines_clean = book_43_clean.collect()\n",
    "word_count = 0\n",
    "for line in lines_clean:\n",
    "    for word in line:\n",
    "        word_count += 1\n",
    "print(f\"book_43 has {word_count} words.\")"
   ]
  },
  {
   "cell_type": "markdown",
   "id": "30d62952",
   "metadata": {},
   "source": [
    "### Q6\n",
    "\n",
    "How many of the words in book_43 are unique? Given that words can appear in lower, upper or mixed case (ex. The, THE, the), make sure you convert the words into lower case before counting them.\n"
   ]
  },
  {
   "cell_type": "code",
   "execution_count": 32,
   "id": "07785c77",
   "metadata": {},
   "outputs": [
    {
     "name": "stdout",
     "output_type": "stream",
     "text": [
      "book_43 has 4296 unique words.\n"
     ]
    }
   ],
   "source": [
    "unique_words = {}\n",
    "for line in lines_clean:\n",
    "    for word in line:\n",
    "        if word.lower() not in unique_words:\n",
    "            unique_words[word.lower()] = 1\n",
    "        else:\n",
    "            unique_words[word.lower()] += 1\n",
    "print(f\"book_43 has {len(unique_words)} unique words.\")"
   ]
  },
  {
   "cell_type": "markdown",
   "id": "91b13b79",
   "metadata": {},
   "source": [
    "### Q7\n",
    "\n",
    "* Generate an `RDD` that contains the frequency of each word in `book_43`. Call the variable `book_43_counts`. Each item in the `RDD` should be a tuple with the word as the first element of the tuple and the count as the second item of the tuple. The collection should look like the following:\n",
    "\n",
    "[('project', 88), (\"the\", 1807), ... ]\n",
    "\n",
    "* Such a collection may contain a large number of words and it would be imprudent to transfer all the words onto the same machine to display it. Instead, to explore the content of such a collection, display only the first element in your list. \n",
    "\n",
    "* Given the random nature of this operation, the first element element displayed may be different. The first entry for me was:\n",
    "```\n",
    "[('project', 88)]\n",
    "```\n",
    "\n",
    "* You can only use operations or actions to answer the question. \n",
    "* Code that uses methods such as `some_rdd.X().Y().Z()...` is allowed\n",
    "* Code that uses functions such as `some_func(...)` is not allowed\n"
   ]
  },
  {
   "cell_type": "code",
   "execution_count": 49,
   "id": "42729b95",
   "metadata": {},
   "outputs": [
    {
     "name": "stdout",
     "output_type": "stream",
     "text": [
      "[('the', 1807), ('project', 88), ('gutenberg', 98), ('ebook', 13), ('of', 1068)]\n"
     ]
    }
   ],
   "source": [
    "book_43_counts = sc.parallelize(list(unique_words.items()))\n",
    "print(book_43_counts.collect()[:5])"
   ]
  },
  {
   "cell_type": "markdown",
   "id": "1ee4534c",
   "metadata": {},
   "source": [
    "### Q8\n",
    "\n",
    "Sort `book_43_counts` and print the 20 most frequent words in book_43. \n",
    "  * Hint: function `sortByKey` sorts a collection of tuples on the first element element of the list. You can easily change the order of the items in each element and use `sortByKey` to sort on the second item of each element in `book_43_counts`\n",
    "  * You can only use operations or actions to answer the question. \n",
    "  * Code that uses methods such as `some_rdd.X().Y().Z()...` is allowed\n",
    "  * Code that uses functions such as `some_func(...)` is not allowed"
   ]
  },
  {
   "cell_type": "code",
   "execution_count": 64,
   "id": "d51b8ea9",
   "metadata": {},
   "outputs": [
    {
     "data": {
      "text/plain": [
       "[(1807, 'the'),\n",
       " (1068, 'of'),\n",
       " (1043, 'and'),\n",
       " (726, 'to'),\n",
       " (686, 'a'),\n",
       " (646, 'i'),\n",
       " (485, 'in'),\n",
       " (471, 'was'),\n",
       " (392, 'that'),\n",
       " (384, 'he'),\n",
       " (378, 'it'),\n",
       " (312, 'you'),\n",
       " (308, 'my'),\n",
       " (301, 'with'),\n",
       " (285, 'his'),\n",
       " (244, 'had'),\n",
       " (203, 'as'),\n",
       " (202, 'for'),\n",
       " (195, 'this'),\n",
       " (193, 'but')]"
      ]
     },
     "execution_count": 64,
     "metadata": {},
     "output_type": "execute_result"
    }
   ],
   "source": [
    "book_43_counts_swapped = book_43_counts.map(lambda x: (x[1], x[0]))\n",
    "book_43_counts_swapped.sortByKey(ascending=False).collect()[:20]"
   ]
  },
  {
   "cell_type": "markdown",
   "id": "13420b09",
   "metadata": {},
   "source": [
    "### Q9\n",
    "\n",
    "You must have noted that the most frequent words in `book_43_counts` include stop words such as `of`, `the`, `and`, etc.\n",
    "\n",
    "It would be inefficient to compare documents based on whether or not they contain stop words; those are common to all documents. As such, it's common to remove such stop words. The librarary `sklearn.feature_extraction` provides access to a collection of English stop words, which can be loaded using the following snippet:\n",
    "\n",
    "```\n",
    "from sklearn.feature_extraction import stop_words\n",
    "stop_words.ENGLISH_STOP_WORDS\n",
    "```\n",
    "\n",
    "* Explore ENGLISH_STOP_WORDS (it's a frozen set data structure, i.e., a set that you cannot modify) by printing any 10 words from it. \n",
    " * Hint: convert the frozen set to something you can subscript\n"
   ]
  },
  {
   "cell_type": "code",
   "execution_count": 68,
   "id": "0e0ad996",
   "metadata": {},
   "outputs": [
    {
     "data": {
      "text/plain": [
       "['that',\n",
       " 'although',\n",
       " 'nowhere',\n",
       " 'for',\n",
       " 'might',\n",
       " 'never',\n",
       " 'above',\n",
       " 'con',\n",
       " 'please',\n",
       " 'much']"
      ]
     },
     "execution_count": 68,
     "metadata": {},
     "output_type": "execute_result"
    }
   ],
   "source": [
    "from sklearn.feature_extraction import _stop_words\n",
    "stop_words_list = list(_stop_words.ENGLISH_STOP_WORDS)\n",
    "stop_words_list[:10]"
   ]
  },
  {
   "cell_type": "markdown",
   "id": "625eb521",
   "metadata": {},
   "source": [
    "### Q10\n",
    "\n",
    "Filter out the words in `book_43_counts` by removing those that appear in the ENGLISH_STOP_WORDS.\n",
    "Save the results to a new variable called `book_43_counts_filtered`\n",
    "  * You can only use operarations or actions on RDDs to answer the question. \n",
    "  * Code that uses methods such as `some_rdd.X().Y().Z()...` is allowed\n",
    "  * Code that uses function such as `some_func(...)` is not allowed\n"
   ]
  },
  {
   "cell_type": "code",
   "execution_count": 79,
   "id": "5602b4ff",
   "metadata": {},
   "outputs": [],
   "source": [
    "book_43_counts_filtered = book_43_counts.filter(lambda x: x[0] not in stop_words_list)"
   ]
  },
  {
   "cell_type": "markdown",
   "id": "3d0b3a80",
   "metadata": {},
   "source": [
    "### Q11\n",
    "\n",
    "* How many words are left in `book_43_counts_filtered` after removing the stop words"
   ]
  },
  {
   "cell_type": "code",
   "execution_count": 78,
   "id": "a5bdf083",
   "metadata": {},
   "outputs": [
    {
     "name": "stdout",
     "output_type": "stream",
     "text": [
      "Reduced 4296 words to 4034.\n"
     ]
    }
   ],
   "source": [
    "print(f\"Reduced {book_43_counts.count()} words to {book_43_counts_filtered.count()}.\")"
   ]
  },
  {
   "cell_type": "markdown",
   "id": "23ffd755",
   "metadata": {},
   "source": [
    "### Q12 \n",
    "\n",
    "* Create a function called *process_RDD* that combines the relevant steps you proposed above to make it convenient to apply them to the remaining four books. Your function should accept an input text file path and:\n",
    " * Reads in the file as a textRDD\n",
    " * Cleans and splits the line using `clean_split_line`\n",
    " * Filters out the stop words\n",
    " * Returns a word count RDD where each item is a tuple of words and its count.\n",
    " \n"
   ]
  },
  {
   "cell_type": "code",
   "execution_count": 93,
   "id": "eff5d5e8",
   "metadata": {},
   "outputs": [],
   "source": [
    "def process_RDD(path: str):\n",
    "    rdd = sc.textFile(path)\n",
    "    rdd_clean = rdd.map(clean_split_line)\n",
    "    lines_clean = rdd_clean.collect()\n",
    "    \n",
    "    unique_words = {}\n",
    "    for line in lines_clean:\n",
    "        for word in line:\n",
    "            if word.lower() not in unique_words:\n",
    "                unique_words[word.lower()] = 1\n",
    "            else:\n",
    "                unique_words[word.lower()] += 1\n",
    "                \n",
    "    rdd_counts = sc.parallelize(list(unique_words.items()))\n",
    "    rdd_counts_filtered = rdd_counts.filter(lambda x: x[0] not in stop_words_list)\n",
    "    return rdd_counts_filtered\n",
    "\n"
   ]
  },
  {
   "cell_type": "markdown",
   "id": "ba59c9c5",
   "metadata": {},
   "source": [
    "### Q13 \n",
    "\n",
    "Apply the function `process_RDD` to `book_84`, `book_398` and `book_3296` and save the results to variables `book_84_counts_filtered`, `book_398_counts_filtered` and `book_3296_counts_filtered` respectively. How many distinct words does each book contain after filtering the stop words.\n"
   ]
  },
  {
   "cell_type": "code",
   "execution_count": 98,
   "id": "08a24f66",
   "metadata": {},
   "outputs": [
    {
     "name": "stdout",
     "output_type": "stream",
     "text": [
      "book_84 has 7016 distinct words.\n",
      "book_398 has 2421 distinct words.\n",
      "book_3296 has 7293 distinct words.\n"
     ]
    }
   ],
   "source": [
    "book_84_counts_filtered = process_RDD(\"data/84.txt\")\n",
    "book_398_counts_filtered = process_RDD(\"data/398.txt\")\n",
    "book_3296_counts_filtered = process_RDD(\"data/3296.txt\")\n",
    "\n",
    "print(f\"book_84 has {book_84_counts_filtered.count()} distinct words.\")\n",
    "print(f\"book_398 has {book_398_counts_filtered.count()} distinct words.\")\n",
    "print(f\"book_3296 has {book_3296_counts_filtered.count()} distinct words.\")\n"
   ]
  },
  {
   "cell_type": "markdown",
   "id": "7fb9680f",
   "metadata": {},
   "source": [
    "### Q14 \n",
    "\n",
    "We discussed how to evaluate similarity between two texts using the number of words they share. We hypothesized that books that are similar should have more words in common than books that are dissimilar. If that holds, `book_398` and `book_3296`, which both pertain to religion, will have more words in common than, say, `book_84` and `book_398`. Test this hypothesis by writing code that compares and prints the number of words shared between `book_398` and `book_3296` and then between `book_84` and `book_398`.\n"
   ]
  },
  {
   "cell_type": "code",
   "execution_count": 118,
   "id": "ac6b73e0",
   "metadata": {},
   "outputs": [
    {
     "name": "stdout",
     "output_type": "stream",
     "text": [
      "book_398 and book_3296 have 1790 words in common.\n",
      "book_398 and book_84 have 1691 words in common.\n",
      "book_3296 and book_84 have 3608 words in common.\n"
     ]
    }
   ],
   "source": [
    "def compareWords(path_1: str, path_2:str):\n",
    "    book_1 = process_RDD(path_1)\n",
    "    book_2 = process_RDD(path_2)\n",
    "    common_words = book_1.join(book_2).collect()\n",
    "    return len(common_words)\n",
    "\n",
    "common_398_3296 = compareWords(\"data/398.txt\", \"data/3296.txt\")\n",
    "common_398_84 = compareWords(\"data/398.txt\", \"data/84.txt\")\n",
    "\n",
    "print(f\"book_398 and book_3296 have {common_398_3296} words in common.\")\n",
    "print(f\"book_398 and book_84 have {common_398_84} words in common.\")"
   ]
  },
  {
   "cell_type": "markdown",
   "id": "cef9f326",
   "metadata": {},
   "source": [
    "### Q15\n",
    "\n",
    "* Based on the above, do you think counting the number of shared words is a good idea as a distance metric for evaluating topic similarity? Justify your answer?\n",
    "* Hint: What do *book_84* and *book_3296* have in common? "
   ]
  },
  {
   "cell_type": "markdown",
   "id": "6587ae14",
   "metadata": {},
   "source": [
    "Since both comparisons have a similar amount of common words but are dissimilar in content,\n",
    "I conclude that this is not a useful metric for topic similarity.\n",
    "\n",
    "Both book_84 and book_3296 have a similar amount of total words, which will just increase the probability to have common words with book_398.\n",
    "\n",
    "The majority of common words probably don't consist of topic-related words but rather ubiqutious verbs or adjectives, prepositions etc:. he, she, will, go, below, above ..."
   ]
  },
  {
   "cell_type": "markdown",
   "id": "a6f8f857",
   "metadata": {},
   "source": [
    "## Part II \n",
    "\n",
    "Another approach to estimating similarity consists of computing the Euclidean distance across a set of words. For example, suppose we have 3 documents A, B and C with the following counts for the words `evolution`, `DNA`, `biology` and `finance`. \n",
    "\n",
    "```python \n",
    "A = [4, 9, 6, 8]\n",
    "B = [3, 7, 7, 10]\n",
    "C = [15, 10, 1, 1]\n",
    "```\n",
    "Although all documents contain exactly the four words, the number of times these words appear in each book may be indicative of thier topic. For example, documents `A` and `B` are more likely to be business related since they contain the word `finance` more frequently (8 and 10 times respectively). Document `C` may be a technical document since it focuses on more technical words (`evolution` and `DNA`) and less on the words `finance`.\n",
    "\n",
    "The Euclidean distance, which can be computed using the `scikit` snippet below, is more indicative of topic-relatedness between the two documents.\n",
    "\n",
    "```python\n",
    "from scipy.spatial.distance import euclidean \n",
    "print(f\"The Euclidean distance between A and B is: {euclidean(A, B)}\")\n",
    "\n",
    "print(f\"The Euclidean distance between A and C is: {euclidean(A, C)}\")\n",
    "\n",
    "print(f\"The Euclidean distance between B and C is: {euclidean(B, C)}\")\n",
    "```\n"
   ]
  },
  {
   "cell_type": "markdown",
   "id": "9abdc35e",
   "metadata": {},
   "source": [
    "### Q16\n",
    "\n",
    "To calculate the Euclidean distance, we must first identify the set of words by which we will compare the documents. Here, we will explore the words that are common to all 4 documents. We will store the data in a matrix called `counts_matrix`.\n",
    "\n",
    "Start by finding the words that are common to all four documents after stop-word filtering and store the counts for each word in a column of `counts_matrix`. \n",
    "\n",
    "To take the previous example, you can generate an emtpy matrix with 3 lines (documents `A`, `B` and `C`) and 4 columns (words `evolution`, `DNA`, `biology` and `finance`) using the following code.\n",
    "\n",
    "```python\n",
    "import numpy as np\n",
    "counts_matrix = np.zeros([3,4])\n",
    "```\n",
    "\n",
    "After generting the counts, you can fill the counts for a document, say `A`, using the following code:\n",
    "\n",
    "```python\n",
    "counts_matrix[0, :] = [4, 9, 6, 8] \n",
    "```\n",
    "* Other than for building `counts_matrix` you should exclusively use operations or actions on the `RDD` to answer this question. \n",
    "  * Code that uses methods such as `some_rdd.X().Y().Z()...` is allowed\n",
    "  * Code that uses functions such as `some_func(...)` is not allowed\n"
   ]
  },
  {
   "cell_type": "code",
   "execution_count": 166,
   "id": "c3cae946",
   "metadata": {},
   "outputs": [
    {
     "name": "stdout",
     "output_type": "stream",
     "text": [
      "['away', 's', 'walk', 'head', 'master', 'mean', 'water', 'distress', 'owns', 'entity', 'owner', 'transcription', 'additions', 'maintaining', 'harm', 'blew', 'cast', 'shattered', 'individual', 'appears', 'identify', 'obsolete', 'ein', 'check', 'set', 'money', 'matter', 'eyes', 'behold', 'tell', 'speech', 'different', 'trouble', 'offered', 'wonder', 'work', 'active', 'commercial', 'freely', 'breach', 'disclaimers', 'network', 'marked', 'sighed', 'lover', 'dust', 'nearly', 'trees', 'mountain', 'indicating', 'variety', 'non', 'terms', 'accept', 'clearly', 'meant', 'makes', 'paper', 'manner', 'city', 'special', 'calculated', 'main', 'solid', 'section', 'preserve', 'old', 'forth', 'sigh', 'returning', 'blow', 'greater', 'speaking', 'beginning', 'promising', 'imposed', 'specified', 'periodic', 'uniform', 'project', 'strange', 'sat', 'shadow', 'hurt', 'covered', 'sad', 'suffer', 'forced', 'secret', 'discover', 'language', 'ready', 'child', 'decided', 'beheld', 'grant', 'account', 'array', 'possession', 'son', 'lived', 'print', 'phrase', 'removed', 'linked', 'limited', 'checks', 'ebook', 'just', 'lower', 'suddenly', 'looks', 'bright', 'clear', 'evil', 'extent', 'writing', 'die', 'creatures', 'shook', 'entrance', 'depths', 'reached', 'named', 'tm', 'abide', 'support', 'performed', 'consequential', 'mississippi', 'hart', 'drive', 'care', 'half', 'sorry', 'twice', 'afraid', 'shown', 'sorrow', 'war', 'file', 'receiving', 'fell', 'approached', 'problem', 'delivered', 'drink', 'opening', 'increasing', 'face', 'small', 'voice', 'returned', 'mere', 'greatness', 'difficult', 'fled', 'takes', 'using', 'mark', 'middle', 'silver', 'lost', 'intercourse', 'formats', 'perform', 'remedies', 'indirect', 'unenforceability', 'promotion', 'arise', 'years', 'far', 'c', 'leave', 'noon', 'stopped', 'settled', 'days', 'dare', 'temptation', 'current', 'prayers', 'accessed', 'produce', 'family', 'turn', 'continually', 'trial', 'belief', 'attempt', 'refreshed', 'indicate', 'proprietary', 'enjoy', 'sight', 'dry', 'chosen', 'shall', 'thinking', 'punishment', 'return', 'lying', 'need', 'blotted', 'animal', 'elements', 'required', 'bonds', 'hated', 'pieces', 'foundation', 'redistributing', 'paragraphs', 'frequently', 'wrong', 'custom', 'beg', 'fit', 'divine', 'weak', 'costs', 'international', 'air', 'thing', 'brought', 'office', 'seek', 'later', 'pleasant', 'having', 'iron', 'surrounded', 'reports', 'angel', 'employee', 'hundreds', 'drove', 'make', 'hair', 'ancient', 'loved', 'living', 'incomplete', 'easily', 'legal', 'synonymous', 'revenue', 'world', 'gave', 'look', 'suppose', 'longer', 'meet', 'lie', 'charities', 'cause', 'intention', 'carry', 'commit', 'creating', 'claim', 'help', 'home', 'cross', 'cut', 'stone', 'somewhat', 'anger', 'bringing', 'following', 'domain', 'tax', 'despite', 'punitive', 'fix', 'states', 'easy', 'breast', 'ways', 'held', 'upright', 'familiar', 'loud', 'bare', 'wide', 'infringement', 'void', 'unsolicited', 'newsletter', 'laws', 'eye', 'white', 'grow', 'fashion', 'forgotten', 'immediately', 'broke', 'joy', 'explained', 'applicable', 'includes', 'silent', 'place', 'printed', 'f', 'clothed', 'received', 'soul', 'second', 'setting', 'example', 'reasonable', 'defective', 'warranties', 'lake', 'best', 'subject', 'young', 'opened', 'service', 'perfect', 'command', 'actual', 'b', 'derived', 'equipment', 'card', 'michael', 'www', 'happen', 'gross', 'earth', 'bones', 'green', 'sea', 'agent', 'gutenberg', 'let', 'came', 'wild', 'free', 'spirit', 'hours', 'unknown', 'expense', 'destruction', 'complying', 'promoting', 'references', 'indirectly', 'deletions', 'reaching', 'exempt', 'talk', 'black', 'saw', 'people', 'reason', 'swelled', 'rise', 'raise', 'burned', 'lead', 'notice', 'begged', 'order', 'standing', 'txt', 'harmless', 'solicitation', 'general', 'did', 'sides', 'repeated', 'patience', 'withdrew', 'purpose', 'struggled', 'trembling', 'shared', 'forget', 'posted', 'wife', 'legally', 'distributor', 'fitness', 'ensuring', 'contributions', 'company', 'outside', 'various', 'ceased', 'crept', 'prevailed', 'works', 'access', 'unlink', 'processing', 'request', 'method', 'replacement', 'secure', 'methods', 'high', 'group', 'father', 'garden', 'ask', 'live', 'touch', 'fear', 'roll', 'love', 'walls', 'falling', 'prevail', 'obtain', 'viewing', 'accepted', 'ran', 'hear', 'rule', 'seeing', 'fitting', 'peace', 'shelter', 'bring', 'pain', 'volunteers', 'widest', 'online', 'title', 'night', 'turned', 'wishes', 'paying', 'hide', 'aged', 'flame', 'grave', 'appear', 'try', 'image', 'prominently', 'calculate', 'indemnify', 'sections', 'does', 'want', 'provided', 'younger', 'continue', 'feelings', 'departed', 'breathe', 'wicked', 'renewed', 'sought', 'land', 'original', 'finally', 'escaped', 'distributing', 'practically', 'sentence', 'taxes', 'data', 'included', 'sick', 'come', 'direct', 'laid', 'advice', 'wished', 'won', 'remain', 'born', 'powers', 'professor', 'previous', 'concept', 'royalty', 'defects', 'maximum', 'originator', 'updated', 'keeping', 'wait', 'counsel', 'deserted', 'contain', 'hid', 'begun', 'performances', 'paperwork', 'stood', 'particular', 'think', 'serve', 'paragraph', 'derive', 'library', 'led', 'pleased', 'mind', 'save', 'particularly', 'book', 'sound', 'deceived', 'space', 'determined', 'sun', 'wonderful', 'files', 'format', 'official', 'say', 'known', 'looked', 'appearance', 'ground', 'feel', 'charge', 'slept', 'joined', 'salt', 'remove', 'modification', 'hand', 'word', 'grown', 'agreed', 'physical', 'servants', 'remains', 'places', 'hell', 'hideous', 'protect', 'trademark', 'user', 'require', 'invalidity', 'life', 'men', 'credit', 'faces', 'stick', 'begin', 'information', 'bless', 'bound', 'thoughts', 'fifth', 'glad', 'bitter', 'recall', 'pages', 'notifies', 'indemnity', 'licensed', 'church', 'desire', 'real', 'judgment', 'party', 'knows', 'sleep', 'written', 'considerable', 'receive', 'usually', 'viewed', 'defect', 'federal', 'state', 'says', 'large', 'edition', 'longing', 'restored', 'forgive', 'altered', 'instead', 'shed', 'saying', 'refuge', 'hate', 'rules', 'proofread', 'financial', 'cold', 'round', 'obey', 'past', 'escape', 'expression', 'ear', 'carefully', 'simple', 'pity', 'profit', 'pglaf', 'compliance', 'countries', 'donate', 'points', 'pass', 'talking', 'prohibition', 'truly', 'registered', 'version', 'providing', 'inaccurate', 'disk', 'expenses', 'contract', 'volunteer', 'soon', 'choose', 'weight', 'walking', 'fallen', 'exclusion', 'weakness', 'effort', 'electronic', 'constant', 'limitation', 'critical', 'west', 'web', 'called', 'tongue', 'given', 'explain', 'comes', 'list', 'watched', 'driven', 'awful', 'awoke', 'faint', 'contact', 'located', 'body', 'according', 'knew', 'desired', 'moving', 'permission', 'discontinue', 'survive', 'opportunity', 'distant', 'asleep', 'really', 'months', 'dwelling', 'changed', 'waiting', 'beings', 'considered', 'vital', 'comply', 'stored', 'depends', 'start', 'business', 'lose', 'mercy', 'position', 'pile', 'placed', 'host', 'accursed', 'send', 'returns', 'feared', 'pay', 'copyright', 'especially', 'downloading', 'staff', 'produced', 'good', 'aside', 'heart', 'flash', 'demand', 'formed', 'possibility', 'rose', 'prepared', 'charges', 'accepting', 'spring', 'conceived', 'death', 'force', 'receipt', 'brightness', 'derivative', 'ebooks', 'addition', 'elect', 'granted', 'outdated', 'date', 'devil', 'nature', 'left', 'broken', 'bad', 'hour', 'wish', 'number', 'relations', 'buried', 'compilation', 'payments', 'sending', 'ut', 'time', 'relief', 'went', 'words', 'great', 'moment', 'servant', 'completed', 'e', 'creation', 'destroy', 'attached', 'liable', 'identification', 'email', 'determine', 'treatment', 'use', 'end', 'stand', 'power', 'law', 'visit', 'books', 'damage', 'mortal', 'liability', 'permanent', 'confirmed', 'restrictions', 'org', 'walks', 'understand', 'sky', 'based', 'compressed', 'transcribe', 'corrupt', 'exists', 'created', 'internal', 'solicit', 'addresses', 'spirits', 'negligence', 'lifted', 'kind', 'knowledge', 'heard', 'distance', 'new', 'impatient', 'blame', 'run', 'trace', 'form', 'strength', 'cease', 'incidental', 'accessible', 'locations', 'laying', 'deeply', 'light', 'satisfy', 'fair', 'royalties', 'exporting', 'damaged', 'children', 'o', 'strong', 'began', 'deep', 'entirely', 'moved', 'including', 'owed', 'irs', 'donation', 'copy', 'release', 'day', 'fellows', 'mail', 'darkness', 'sense', 'future', 'wrote', 'explanation', 'unable', 'agree', 'strict', 'readable', 'steps', 'right', 'approach', 'answered', 'creature', 'withdrawn', 'broad', 'additional', 'prepare', 'showed', 'sent', 'thought', 'compared', 'alteration', 'punish', 'delight', 'redeem', 'sharing', 'include', 'errors', 'lieu', 'production', 'letter', 'long', 'inhabitants', 'continued', 'field', 'hearted', 'sixth', 'seated', 'measure', 'research', 'redistribution', 'archive', 'copied', 'remaining', 'confirmation', 'lot', 'stay', 'beautiful', 'directly', 'committed', 'birth', 'concerning', 'provisions', 'generations', 'license', 'man', 'passage', 'little', 'shut', 'god', 'comfort', 'table', 'simply', 'angry', 'distribute', 'property', 'donations', 'damages', 'appeared', 'hard', 'drew', 'evening', 'learn', 'wind', 'mixture', 'remained', 'heaven', 'seized', 'resolution', 'editions', 'containing', 'hypertext', 'united', 'murder', 'chief', 'figure', 'near', 'felt', 'paid', 'late', 'lest', 'noble', 'refund', 'convert', 'ascii', 'tried', 'close', 'able', 'house', 'assistance', 'accustomed', 'borne', 'read', 'speak', 'softened', 'public', 'sweet', 'mission', 'fees', 'occur', 'spoke', 'approved', 'change', 'told', 'gold', 'person', 'd', 'bear', 'means', 'fall', 'praises', 'links', 'burning', 'replace', 'appearing', 'violates', 'donors', 'pleasure', 'bore', 'morning', 'course', 'dead', 'trust', 'times', 'described', 'sooner', 'plain', 'remember', 'actually', 'express', 'profits', 'computer', 'case', 'parts', 'reply', 'hope', 'noise', 'condemned', 'built', 'pure', 'important', 'u', 'available', 'educational', 'north', 'statements', 'swamp', 'necessarily', 'english', 'ashamed', 'promise', 'present', 'taking', 'write', 'strained', 'possessed', 'accordance', 'discovered', 'disclaim', 'corporation', 'whatsoever', 'discourse', 'used', 'like', 'east', 'kept', 'altogether', 'gift', 'shape', 'immediate', 'distribution', 'machine', 'offers', 'walked', 'existence', 'watch', 'passion', 'faith', 'presence', 'killed', 'prevented', 'short', 'copying', 'binary', 'provide', 'expend', 'electronically', 'computers', 'subscribe', 'country', 'human', 'kill', 'believe', 'making', 'raised', 'getting', 'fitted', 'amazed', 'gently', 'ears', 'enter', 'provision', 'agreement', 'requirements', 'vanilla', 'interpreted', 'page', 'author', 'taken', 'reach', 'glowing', 'rejoiced', 'withered', 'detach', 'organized', 'pg', 'lay', 'struck', 'coming', 'address', 'sit', 'clean', 'intellectual', 'content', 'welcome', 'break', 'hold', 'learned', 'fainting', 'apply', 'displaying', 'codes', 'types', 'cost', 'hands', 'blood', 'gone', 'follow', 'sake', 'feet', 'truth', 'eaten', 'performing', 'employees', 'warranty', 'facility', 'search', 'reported', 'said', 'generation', 'rest', 'apart', 'things', 'gathered', 'tears', 'enemy', 'suffering', 'true', 'renamed', 'modified', 'efforts', 'charitable', 'implied', 'certain', 'seen', 'took', 'know', 'looking', 'dark', 'share', 'hanging', 'act', 'displayed', 'sinned', 'zip', 'govern', 'holder', 'redistribute', 'nonproprietary', 'opportunities', 'allow', 'way', 'brother', 'carried', 'passed', 'likely', 'silence', 'gratefully', 'deal', 'heavy', 'loose', 'filled', 'hung', 'entered', 'fee', 'collection', 'prevent', 'representations', 'medium', 'permitted', 'regulating', 'enjoyed', 'doing', 'forward', 'reading', 'grew', 'unless', 'guarded', 'followed', 'turning', 'status', 'piece', 'obtaining', 'taste', 'kindled', 'woman', 'fast', 'flesh', 'inner', 'consent', 'shaken', 'shine', 'copies', 'literary', 'display', 'virus', 'disclaimer', 'goals', 'better', 'going', 'asked', 'met', 'plenty', 'cried', 'waters', 'tremble', 'associated', 'distributed', 'alternate', 'deductible']\n",
      "[[ 21 156   7 ...   4   1   1]\n",
      " [ 53 100   6 ...   5   2   1]\n",
      " [ 37 102   5 ...   4   1   1]\n",
      " [119 136  13 ...   4   1   1]]\n"
     ]
    }
   ],
   "source": [
    "import numpy as np\n",
    "counts_matrix = np.zeros([3,4])\n",
    "\n",
    "book_43_processed = process_RDD(\"data/43.txt\")\n",
    "book_84_processed = process_RDD(\"data/84.txt\")\n",
    "book_398_processed = process_RDD(\"data/398.txt\")\n",
    "book_3296_processed = process_RDD(\"data/3296.txt\")\n",
    "\n",
    "# join all rdds and flatten the values so they are 4-tuples with word counts for each book:\n",
    "# (book_43, book_84, book_398, book_3296)\n",
    "\n",
    "all_common = book_43_processed.join(book_84_processed)\n",
    "all_common = all_common.join(book_398_processed).mapValues(lambda x: x[0] + (x[1], ))\n",
    "all_common = all_common.join(book_3296_processed).mapValues(lambda x: x[0] + (x[1], ))\n",
    "print(all_common.keys().collect())\n",
    "# convert directly to numpy matrix, now each row represents a unique word\n",
    "# and each column reflects its count in the 4 books\n",
    "all_common_matrix = np.array(all_common.values().collect())\n",
    "\n",
    "# if we transpose it, we have the required matrix with counts_matrix[0, :]\n",
    "# being a list of counts for all unique words in the first book\n",
    "print(counts_matrix)\n",
    "book_43_counts = counts_matrix[0, :]\n",
    "book_84_counts = counts_matrix[1, :]\n",
    "book_398_counts = counts_matrix[2, :]\n",
    "book_3296_counts = counts_matrix[3, :]"
   ]
  },
  {
   "cell_type": "markdown",
   "id": "124bcdd8",
   "metadata": {},
   "source": [
    "### Q17\n",
    "\n",
    "Compute the Euclidean distance between `book_398` and `book_3296`, which both talk about religion and `book_84` and `book_398`. What do you conclude about using the Euclidean distance for evaluating topic relatedness across documents?"
   ]
  },
  {
   "cell_type": "code",
   "execution_count": 164,
   "id": "7b6a81dd",
   "metadata": {},
   "outputs": [
    {
     "name": "stdout",
     "output_type": "stream",
     "text": [
      "The Euclidean distance between book_398 and book_3296 is: 1156.6628722320086\n",
      "The Euclidean distance between book_398 and book_84 is: 751.6688100486809\n"
     ]
    }
   ],
   "source": [
    "from scipy.spatial.distance import euclidean \n",
    "print(f\"The Euclidean distance between book_398 and book_3296 is: {euclidean(book_398_counts, book_3296_counts)}\")\n",
    "print(f\"The Euclidean distance between book_398 and book_84 is: {euclidean(book_398_counts, book_84_counts)}\")"
   ]
  },
  {
   "cell_type": "markdown",
   "id": "89981b46",
   "metadata": {},
   "source": [
    "The distance between 398 and 3296 is still larger than between 398 and 84 despite their similarity in topic (religion).\n",
    "\n",
    "Once again a more impactful factor is the similarity in total word counts, since\n",
    "the majority of common words (in all 4 docs) are not tied to a topic (religion or science fiction).\n",
    "\n",
    "Due to that, the euclidean distance between two books may solely be large because one book uses their common words way more frequently than the other."
   ]
  },
  {
   "cell_type": "markdown",
   "id": "3f4e54e6",
   "metadata": {},
   "source": [
    "### Q18\n",
    "\n",
    "Bonus question (5 points): Can you think of a few things we could do to improve similarity between documents that pertain to the same topic. Justify your answer without giving code"
   ]
  },
  {
   "cell_type": "markdown",
   "id": "5c8c6de1",
   "metadata": {},
   "source": [
    "One idea could be to normalize the frequency of word counts to the total word count,\n",
    "i.e. that the matrix contains the relative, not the absolute word count.\n",
    "\n",
    "\n",
    "So, for example, if 'prayer', 'faith', 'god' each make up 1% of two religion-related books, their individual total word count would not matter. Rather it's their percentual composition of unique words which would lead to a smaller euclidean distance."
   ]
  },
  {
   "cell_type": "markdown",
   "id": "aedf1d74",
   "metadata": {},
   "source": [
    "## Part III\n",
    "\n",
    "In this part we will build some basic analytics for a dataset consisting of flight arrival and departure details for all commercial flights within the USA in one month. While this dataset can be managed using Pandas (<1M records), scaling to a yearly or longer timeframe will greatly benefit from using a distributed computing framework such as `Spark`.\n",
    "\n",
    "Here, you should use exclusively `SparkDatFrames. \n",
    "\n",
    "We want to analyze this dataset to better schedule trips.  For example:\n",
    " * Avoid airlines carriers that are most often associated with delays.\n",
    " * Avoid departure days where delays are most frequent.\n",
    " * Avoid airports which are associated with delays or long taxxying time.\n",
    "* etc.\n",
    " \n",
    "\n",
    "The information about the fields contained in the data file can be found [here](https://dataverse.harvard.edu/dataset.xhtml;jsessionid=0414e25969eccd0e88ae4d64fa0b?persistentId=doi%3A10.7910%2FDVN%2FHG7NV7&version=&q=&fileTypeGroupFacet=&fileTag=%221.+Documentation%22&fileSortField=date&fileSortOrder=desc)\n"
   ]
  },
  {
   "cell_type": "markdown",
   "id": "149805af",
   "metadata": {},
   "source": [
    "### Q19\n",
    "\n",
    "Load the file `flight_info.csv` into a spark `DataFrame` called `fight_info`.\n",
    "\n",
    "  * Note that you will need to create a sparkSession prior to loading the data\n",
    "  \n",
    "* How many entries does the file contain?\n",
    "\n"
   ]
  },
  {
   "cell_type": "code",
   "execution_count": 272,
   "id": "3ad5e6ad",
   "metadata": {},
   "outputs": [
    {
     "name": "stdout",
     "output_type": "stream",
     "text": [
      "The file contains 450017 entries.\n"
     ]
    }
   ],
   "source": [
    "from pyspark.sql import SparkSession\n",
    "spark = SparkSession \\\n",
    "    .builder \\\n",
    "    .appName(\"assignment2\") \\\n",
    "    .getOrCreate()\n",
    "\n",
    "flight_info_df = spark.read.csv(\"data/flight_info.csv\", header=True)\n",
    "print(f\"The file contains {flight_info_df.count()} entries.\")"
   ]
  },
  {
   "cell_type": "markdown",
   "id": "4fad81f1",
   "metadata": {},
   "source": [
    "### Q20\n",
    "\n",
    "Use `pySpark-SQL` or `pandas-like syntax to compute the airlines represented in this dataset\n",
    "The airline information is stored in a field called UniqueCarrier\n",
    "* UniqueCarrier: Represents the unique carrier code (ex.AA = American Airlines) \n"
   ]
  },
  {
   "cell_type": "code",
   "execution_count": 242,
   "id": "73fd7b0b",
   "metadata": {},
   "outputs": [
    {
     "name": "stdout",
     "output_type": "stream",
     "text": [
      "+-------------+\n",
      "|UniqueCarrier|\n",
      "+-------------+\n",
      "|           UA|\n",
      "|           NK|\n",
      "|           AA|\n",
      "|           EV|\n",
      "|           B6|\n",
      "|           DL|\n",
      "|           OO|\n",
      "|           F9|\n",
      "|           HA|\n",
      "|           AS|\n",
      "|           VX|\n",
      "|           WN|\n",
      "+-------------+\n",
      "\n"
     ]
    }
   ],
   "source": [
    "flight_info_df.select(\"UniqueCarrier\").distinct().show()"
   ]
  },
  {
   "cell_type": "markdown",
   "id": "1349b2f5",
   "metadata": {},
   "source": [
    "### Q21\n",
    "\n",
    "The data file contains various other fields, two of which are useful for answering the next question.\n",
    "\n",
    "* CRSDepTime: Represents the scheduled departure time\n",
    "* DepTime: Represents the actual departure time\n",
    "\n",
    "Compute the number of flights delayed per each carried code represented in this dataset. Sort the data by decreasing order of delays.\n",
    "  * A delay is observed when `DepTime` > `CRSDepTime`\n"
   ]
  },
  {
   "cell_type": "code",
   "execution_count": 273,
   "id": "c72cff25",
   "metadata": {},
   "outputs": [
    {
     "name": "stdout",
     "output_type": "stream",
     "text": [
      "+-------------+-----+\n",
      "|UniqueCarrier|count|\n",
      "+-------------+-----+\n",
      "|           WN|54557|\n",
      "|           DL|28962|\n",
      "|           AA|26291|\n",
      "|           UA|19594|\n",
      "|           OO|17924|\n",
      "|           EV|12340|\n",
      "|           B6|10406|\n",
      "|           AS| 4966|\n",
      "|           NK| 4435|\n",
      "|           F9| 3181|\n",
      "|           VX| 2871|\n",
      "|           HA| 2265|\n",
      "+-------------+-----+\n",
      "\n"
     ]
    }
   ],
   "source": [
    "flight_info_df.where(flight_info_df[\"DepTime\"] > flight_info_df[\"CRSDepTime\"]) \\\n",
    "    .groupBy('UniqueCarrier') \\\n",
    "    .count().orderBy('count', ascending=False).show()"
   ]
  },
  {
   "cell_type": "markdown",
   "id": "1645593b",
   "metadata": {},
   "source": [
    "### Q22\n",
    "\n",
    " Use the file `airlines.csv` to find the the complete name of the airline. Here, you are required to load the file as a pyspark DataFrame; call it `airlines_info`, and repeat the query above while including the `flights.csv `file in your query ( requires doing a `join`) so that you can also display the full name of the carrier (second column). \n",
    "\n",
    "The result will look (approximately) like:\n",
    "\n",
    "```\n",
    "[Row(UniqueCarrier='WN', first(_c1)='Southwest Airlines', count=SOME_count),\n",
    " Row(UniqueCarrier='DL', first(_c1)='Delta Air Lines', count=SOME_count),\n",
    " Row(UniqueCarrier='AA', first(_c1)='American Airlines', count=SOME_count),\n",
    " ...\n",
    " ]\n",
    "```\n",
    "\n",
    "The carrier code in the `airlines.csv` file is provided in the 4th (1-based) column\n",
    "\n",
    "Note that the file `airlines.csv` does not have column header. Hence, you need to print one line of your dataset to see what names Spark gave to the columns. Use the name provided by Spark in your query."
   ]
  },
  {
   "cell_type": "code",
   "execution_count": 303,
   "id": "30cea22b",
   "metadata": {},
   "outputs": [
    {
     "name": "stdout",
     "output_type": "stream",
     "text": [
      "+--------------------+-------------+-----+\n",
      "|                 _c1|UniqueCarrier|count|\n",
      "+--------------------+-------------+-----+\n",
      "|  Southwest Airlines|           WN|54557|\n",
      "|     Delta Air Lines|           DL|28962|\n",
      "|   American Airlines|           AA|26291|\n",
      "|     United Airlines|           UA|19594|\n",
      "|             SkyWest|           OO|17924|\n",
      "|Atlantic Southeas...|           EV|12340|\n",
      "|     JetBlue Airways|           B6|10406|\n",
      "|     Alaska Airlines|           AS| 4966|\n",
      "|     Spirit Airlines|           NK| 4435|\n",
      "|   Frontier Airlines|           F9| 3181|\n",
      "|      Virgin America|           VX| 2871|\n",
      "|   Hawaiian Airlines|           HA| 2265|\n",
      "+--------------------+-------------+-----+\n",
      "\n"
     ]
    }
   ],
   "source": [
    "airlines_info = spark.read.csv(\"data/airlines.csv\", header=False)\n",
    "\n",
    "flight_info_df.join(airlines_info, flight_info_df.UniqueCarrier == airlines_info._c3, 'inner') \\\n",
    "    .where(flight_info_df[\"DepTime\"] > flight_info_df[\"CRSDepTime\"]) \\\n",
    "    .groupBy('_c1', 'UniqueCarrier') \\\n",
    "    .count().orderBy('count', ascending=False).show()"
   ]
  },
  {
   "cell_type": "markdown",
   "id": "4e0123a8",
   "metadata": {},
   "source": [
    "### Q23\n",
    "\n",
    "Compute the number of delays per company per day. The day is encoded as an integer in the column `DayOfWeek` in `fight_info`. You can display the day as an integer or map it into a string name of the week.\n",
    "Sort the data by airline code (UniqueCarrier) and by increasing values of DayOfWeek\n",
    "\n",
    "\n",
    "You results should look like the following\n",
    "\n"
   ]
  },
  {
   "cell_type": "code",
   "execution_count": 453,
   "id": "f9971baa",
   "metadata": {},
   "outputs": [
    {
     "name": "stdout",
     "output_type": "stream",
     "text": [
      "+-----------------+-------------+---------+-----+\n",
      "|              _c1|UniqueCarrier|DayOfWeek|count|\n",
      "+-----------------+-------------+---------+-----+\n",
      "|American Airlines|           AA|        1| 5117|\n",
      "|American Airlines|           AA|        2| 3688|\n",
      "|American Airlines|           AA|        3| 2941|\n",
      "|American Airlines|           AA|        4| 3575|\n",
      "|American Airlines|           AA|        5| 3525|\n",
      "|American Airlines|           AA|        6| 2800|\n",
      "|American Airlines|           AA|        7| 4645|\n",
      "|  Alaska Airlines|           AS|        1|  872|\n",
      "|  Alaska Airlines|           AS|        2|  669|\n",
      "|  Alaska Airlines|           AS|        3|  618|\n",
      "|  Alaska Airlines|           AS|        4|  728|\n",
      "|  Alaska Airlines|           AS|        5|  630|\n",
      "|  Alaska Airlines|           AS|        6|  517|\n",
      "|  Alaska Airlines|           AS|        7|  932|\n",
      "|  JetBlue Airways|           B6|        1| 1892|\n",
      "|  JetBlue Airways|           B6|        2| 1787|\n",
      "|  JetBlue Airways|           B6|        3| 1253|\n",
      "|  JetBlue Airways|           B6|        4| 1254|\n",
      "|  JetBlue Airways|           B6|        5| 1309|\n",
      "|  JetBlue Airways|           B6|        6| 1027|\n",
      "+-----------------+-------------+---------+-----+\n",
      "only showing top 20 rows\n",
      "\n"
     ]
    }
   ],
   "source": [
    "flight_info_df.join(airlines_info, flight_info_df.UniqueCarrier == airlines_info._c3, 'inner') \\\n",
    "    .where(flight_info_df[\"DepTime\"] > flight_info_df[\"CRSDepTime\"]) \\\n",
    "    .groupBy('_c1', 'UniqueCarrier', 'DayOfWeek') \\\n",
    "    .count() \\\n",
    "    .orderBy('UniqueCarrier', 'DayOfWeek', ascending=True).show()\n"
   ]
  },
  {
   "cell_type": "markdown",
   "id": "4c955760",
   "metadata": {},
   "source": [
    "### Q24  \n",
    "\n",
    "Counting the number of delayed flights per airline is misleading, as airlines with more flights are more likley to have delays than companies with substantially fiewer flights. \n",
    "\n",
    "Repeat the same query above but, for each carrier, normalize the counts of delays by the total number of flights for that carrier. \n"
   ]
  },
  {
   "cell_type": "code",
   "execution_count": 481,
   "id": "13ae9b5e",
   "metadata": {},
   "outputs": [
    {
     "name": "stdout",
     "output_type": "stream",
     "text": [
      "+-------------+-----------------+---------+-----+----------+-------------------+\n",
      "|UniqueCarrier|              _c1|DayOfWeek|count|sum(count)|   normalized_count|\n",
      "+-------------+-----------------+---------+-----+----------+-------------------+\n",
      "|           AA|American Airlines|        1| 5117|     26291| 0.1946293408390704|\n",
      "|           AA|American Airlines|        2| 3688|     26291| 0.1402761401239968|\n",
      "|           AA|American Airlines|        3| 2941|     26291|0.11186337529953216|\n",
      "|           AA|American Airlines|        4| 3575|     26291|0.13597809136206307|\n",
      "|           AA|American Airlines|        5| 3525|     26291|0.13407629987448177|\n",
      "|           AA|American Airlines|        6| 2800|     26291|0.10650032330455289|\n",
      "|           AA|American Airlines|        7| 4645|     26291|0.17667642919630291|\n",
      "|           AS|  Alaska Airlines|        1|  872|      4966|  0.175594039468385|\n",
      "|           AS|  Alaska Airlines|        2|  669|      4966| 0.1347160692710431|\n",
      "|           AS|  Alaska Airlines|        3|  618|      4966|0.12444623439387838|\n",
      "|           AS|  Alaska Airlines|        4|  728|      4966|0.14659685863874344|\n",
      "|           AS|  Alaska Airlines|        5|  630|      4966|0.12686266612968183|\n",
      "|           AS|  Alaska Airlines|        6|  517|      4966|0.10410793395086589|\n",
      "|           AS|  Alaska Airlines|        7|  932|      4966|0.18767619814740233|\n",
      "|           B6|  JetBlue Airways|        1| 1892|     10406|0.18181818181818182|\n",
      "|           B6|  JetBlue Airways|        2| 1787|     10406|0.17172784931770133|\n",
      "|           B6|  JetBlue Airways|        3| 1253|     10406|0.12041130117240054|\n",
      "|           B6|  JetBlue Airways|        4| 1254|     10406|0.12050739957716702|\n",
      "|           B6|  JetBlue Airways|        5| 1309|     10406|0.12579281183932348|\n",
      "|           B6|  JetBlue Airways|        6| 1027|     10406|0.09869306169517586|\n",
      "+-------------+-----------------+---------+-----+----------+-------------------+\n",
      "only showing top 20 rows\n",
      "\n"
     ]
    }
   ],
   "source": [
    "import pyspark.sql.functions as F\n",
    "\n",
    "\n",
    "joined_df = flight_info_df.join(airlines_info, flight_info_df.UniqueCarrier == airlines_info._c3, 'inner')\n",
    "\n",
    "delays_df = joined_df \\\n",
    "    .where(flight_info_df[\"DepTime\"] > flight_info_df[\"CRSDepTime\"]) \\\n",
    "    .groupBy('_c1', 'UniqueCarrier', 'DayOfWeek') \\\n",
    "    .count()\n",
    "    \n",
    "total_delays_by_airline = delays_df \\\n",
    "    .groupBy('UniqueCarrier') \\\n",
    "    .sum()\n",
    "\n",
    "normalized_df = delay_count_df \\\n",
    "                .join(total_delays_by_airline, ['UniqueCarrier']) \\\n",
    "                .withColumn(\"normalized_count\", F.col('count') / F.col('sum(count)'))\n",
    "normalized_df.orderBy('UniqueCarrier', 'DayOfWeek', ascending=True).show()"
   ]
  },
  {
   "cell_type": "markdown",
   "id": "5b73b3e4",
   "metadata": {},
   "source": [
    " ### Q25 \n",
    "\n",
    "Time the query above. How long did it take to run. \n",
    "  * Make sure you run the code a few times and compute the average run time.\n",
    "  * The above should be easy to implement if you use the correct Jupyter Notebook `magic` function\n",
    "  "
   ]
  },
  {
   "cell_type": "code",
   "execution_count": 500,
   "id": "7df43da8",
   "metadata": {},
   "outputs": [
    {
     "name": "stdout",
     "output_type": "stream",
     "text": [
      "+-------------+-----------------+---------+-----+----------+-------------------+\n",
      "|UniqueCarrier|              _c1|DayOfWeek|count|sum(count)|   normalized_count|\n",
      "+-------------+-----------------+---------+-----+----------+-------------------+\n",
      "|           AA|American Airlines|        1| 5117|     26291| 0.1946293408390704|\n",
      "|           AA|American Airlines|        2| 3688|     26291| 0.1402761401239968|\n",
      "|           AA|American Airlines|        3| 2941|     26291|0.11186337529953216|\n",
      "|           AA|American Airlines|        4| 3575|     26291|0.13597809136206307|\n",
      "|           AA|American Airlines|        5| 3525|     26291|0.13407629987448177|\n",
      "|           AA|American Airlines|        6| 2800|     26291|0.10650032330455289|\n",
      "|           AA|American Airlines|        7| 4645|     26291|0.17667642919630291|\n",
      "|           AS|  Alaska Airlines|        1|  872|      4966|  0.175594039468385|\n",
      "|           AS|  Alaska Airlines|        2|  669|      4966| 0.1347160692710431|\n",
      "|           AS|  Alaska Airlines|        3|  618|      4966|0.12444623439387838|\n",
      "|           AS|  Alaska Airlines|        4|  728|      4966|0.14659685863874344|\n",
      "|           AS|  Alaska Airlines|        5|  630|      4966|0.12686266612968183|\n",
      "|           AS|  Alaska Airlines|        6|  517|      4966|0.10410793395086589|\n",
      "|           AS|  Alaska Airlines|        7|  932|      4966|0.18767619814740233|\n",
      "|           B6|  JetBlue Airways|        1| 1892|     10406|0.18181818181818182|\n",
      "|           B6|  JetBlue Airways|        2| 1787|     10406|0.17172784931770133|\n",
      "|           B6|  JetBlue Airways|        3| 1253|     10406|0.12041130117240054|\n",
      "|           B6|  JetBlue Airways|        4| 1254|     10406|0.12050739957716702|\n",
      "|           B6|  JetBlue Airways|        5| 1309|     10406|0.12579281183932348|\n",
      "|           B6|  JetBlue Airways|        6| 1027|     10406|0.09869306169517586|\n",
      "+-------------+-----------------+---------+-----+----------+-------------------+\n",
      "only showing top 20 rows\n",
      "\n",
      "+-------------+-----------------+---------+-----+----------+-------------------+\n",
      "|UniqueCarrier|              _c1|DayOfWeek|count|sum(count)|   normalized_count|\n",
      "+-------------+-----------------+---------+-----+----------+-------------------+\n",
      "|           AA|American Airlines|        1| 5117|     26291| 0.1946293408390704|\n",
      "|           AA|American Airlines|        2| 3688|     26291| 0.1402761401239968|\n",
      "|           AA|American Airlines|        3| 2941|     26291|0.11186337529953216|\n",
      "|           AA|American Airlines|        4| 3575|     26291|0.13597809136206307|\n",
      "|           AA|American Airlines|        5| 3525|     26291|0.13407629987448177|\n",
      "|           AA|American Airlines|        6| 2800|     26291|0.10650032330455289|\n",
      "|           AA|American Airlines|        7| 4645|     26291|0.17667642919630291|\n",
      "|           AS|  Alaska Airlines|        1|  872|      4966|  0.175594039468385|\n",
      "|           AS|  Alaska Airlines|        2|  669|      4966| 0.1347160692710431|\n",
      "|           AS|  Alaska Airlines|        3|  618|      4966|0.12444623439387838|\n",
      "|           AS|  Alaska Airlines|        4|  728|      4966|0.14659685863874344|\n",
      "|           AS|  Alaska Airlines|        5|  630|      4966|0.12686266612968183|\n",
      "|           AS|  Alaska Airlines|        6|  517|      4966|0.10410793395086589|\n",
      "|           AS|  Alaska Airlines|        7|  932|      4966|0.18767619814740233|\n",
      "|           B6|  JetBlue Airways|        1| 1892|     10406|0.18181818181818182|\n",
      "|           B6|  JetBlue Airways|        2| 1787|     10406|0.17172784931770133|\n",
      "|           B6|  JetBlue Airways|        3| 1253|     10406|0.12041130117240054|\n",
      "|           B6|  JetBlue Airways|        4| 1254|     10406|0.12050739957716702|\n",
      "|           B6|  JetBlue Airways|        5| 1309|     10406|0.12579281183932348|\n",
      "|           B6|  JetBlue Airways|        6| 1027|     10406|0.09869306169517586|\n",
      "+-------------+-----------------+---------+-----+----------+-------------------+\n",
      "only showing top 20 rows\n",
      "\n",
      "+-------------+-----------------+---------+-----+----------+-------------------+\n",
      "|UniqueCarrier|              _c1|DayOfWeek|count|sum(count)|   normalized_count|\n",
      "+-------------+-----------------+---------+-----+----------+-------------------+\n",
      "|           AA|American Airlines|        1| 5117|     26291| 0.1946293408390704|\n",
      "|           AA|American Airlines|        2| 3688|     26291| 0.1402761401239968|\n",
      "|           AA|American Airlines|        3| 2941|     26291|0.11186337529953216|\n",
      "|           AA|American Airlines|        4| 3575|     26291|0.13597809136206307|\n",
      "|           AA|American Airlines|        5| 3525|     26291|0.13407629987448177|\n",
      "|           AA|American Airlines|        6| 2800|     26291|0.10650032330455289|\n",
      "|           AA|American Airlines|        7| 4645|     26291|0.17667642919630291|\n",
      "|           AS|  Alaska Airlines|        1|  872|      4966|  0.175594039468385|\n",
      "|           AS|  Alaska Airlines|        2|  669|      4966| 0.1347160692710431|\n",
      "|           AS|  Alaska Airlines|        3|  618|      4966|0.12444623439387838|\n",
      "|           AS|  Alaska Airlines|        4|  728|      4966|0.14659685863874344|\n",
      "|           AS|  Alaska Airlines|        5|  630|      4966|0.12686266612968183|\n",
      "|           AS|  Alaska Airlines|        6|  517|      4966|0.10410793395086589|\n",
      "|           AS|  Alaska Airlines|        7|  932|      4966|0.18767619814740233|\n",
      "|           B6|  JetBlue Airways|        1| 1892|     10406|0.18181818181818182|\n",
      "|           B6|  JetBlue Airways|        2| 1787|     10406|0.17172784931770133|\n",
      "|           B6|  JetBlue Airways|        3| 1253|     10406|0.12041130117240054|\n",
      "|           B6|  JetBlue Airways|        4| 1254|     10406|0.12050739957716702|\n",
      "|           B6|  JetBlue Airways|        5| 1309|     10406|0.12579281183932348|\n",
      "|           B6|  JetBlue Airways|        6| 1027|     10406|0.09869306169517586|\n",
      "+-------------+-----------------+---------+-----+----------+-------------------+\n",
      "only showing top 20 rows\n",
      "\n",
      "+-------------+-----------------+---------+-----+----------+-------------------+\n",
      "|UniqueCarrier|              _c1|DayOfWeek|count|sum(count)|   normalized_count|\n",
      "+-------------+-----------------+---------+-----+----------+-------------------+\n",
      "|           AA|American Airlines|        1| 5117|     26291| 0.1946293408390704|\n",
      "|           AA|American Airlines|        2| 3688|     26291| 0.1402761401239968|\n",
      "|           AA|American Airlines|        3| 2941|     26291|0.11186337529953216|\n",
      "|           AA|American Airlines|        4| 3575|     26291|0.13597809136206307|\n",
      "|           AA|American Airlines|        5| 3525|     26291|0.13407629987448177|\n",
      "|           AA|American Airlines|        6| 2800|     26291|0.10650032330455289|\n",
      "|           AA|American Airlines|        7| 4645|     26291|0.17667642919630291|\n",
      "|           AS|  Alaska Airlines|        1|  872|      4966|  0.175594039468385|\n",
      "|           AS|  Alaska Airlines|        2|  669|      4966| 0.1347160692710431|\n",
      "|           AS|  Alaska Airlines|        3|  618|      4966|0.12444623439387838|\n",
      "|           AS|  Alaska Airlines|        4|  728|      4966|0.14659685863874344|\n",
      "|           AS|  Alaska Airlines|        5|  630|      4966|0.12686266612968183|\n",
      "|           AS|  Alaska Airlines|        6|  517|      4966|0.10410793395086589|\n",
      "|           AS|  Alaska Airlines|        7|  932|      4966|0.18767619814740233|\n",
      "|           B6|  JetBlue Airways|        1| 1892|     10406|0.18181818181818182|\n",
      "|           B6|  JetBlue Airways|        2| 1787|     10406|0.17172784931770133|\n",
      "|           B6|  JetBlue Airways|        3| 1253|     10406|0.12041130117240054|\n",
      "|           B6|  JetBlue Airways|        4| 1254|     10406|0.12050739957716702|\n",
      "|           B6|  JetBlue Airways|        5| 1309|     10406|0.12579281183932348|\n",
      "|           B6|  JetBlue Airways|        6| 1027|     10406|0.09869306169517586|\n",
      "+-------------+-----------------+---------+-----+----------+-------------------+\n",
      "only showing top 20 rows\n",
      "\n",
      "+-------------+-----------------+---------+-----+----------+-------------------+\n",
      "|UniqueCarrier|              _c1|DayOfWeek|count|sum(count)|   normalized_count|\n",
      "+-------------+-----------------+---------+-----+----------+-------------------+\n",
      "|           AA|American Airlines|        1| 5117|     26291| 0.1946293408390704|\n",
      "|           AA|American Airlines|        2| 3688|     26291| 0.1402761401239968|\n",
      "|           AA|American Airlines|        3| 2941|     26291|0.11186337529953216|\n",
      "|           AA|American Airlines|        4| 3575|     26291|0.13597809136206307|\n",
      "|           AA|American Airlines|        5| 3525|     26291|0.13407629987448177|\n",
      "|           AA|American Airlines|        6| 2800|     26291|0.10650032330455289|\n",
      "|           AA|American Airlines|        7| 4645|     26291|0.17667642919630291|\n",
      "|           AS|  Alaska Airlines|        1|  872|      4966|  0.175594039468385|\n",
      "|           AS|  Alaska Airlines|        2|  669|      4966| 0.1347160692710431|\n",
      "|           AS|  Alaska Airlines|        3|  618|      4966|0.12444623439387838|\n",
      "|           AS|  Alaska Airlines|        4|  728|      4966|0.14659685863874344|\n",
      "|           AS|  Alaska Airlines|        5|  630|      4966|0.12686266612968183|\n",
      "|           AS|  Alaska Airlines|        6|  517|      4966|0.10410793395086589|\n",
      "|           AS|  Alaska Airlines|        7|  932|      4966|0.18767619814740233|\n",
      "|           B6|  JetBlue Airways|        1| 1892|     10406|0.18181818181818182|\n",
      "|           B6|  JetBlue Airways|        2| 1787|     10406|0.17172784931770133|\n",
      "|           B6|  JetBlue Airways|        3| 1253|     10406|0.12041130117240054|\n",
      "|           B6|  JetBlue Airways|        4| 1254|     10406|0.12050739957716702|\n",
      "|           B6|  JetBlue Airways|        5| 1309|     10406|0.12579281183932348|\n",
      "|           B6|  JetBlue Airways|        6| 1027|     10406|0.09869306169517586|\n",
      "+-------------+-----------------+---------+-----+----------+-------------------+\n",
      "only showing top 20 rows\n",
      "\n"
     ]
    },
    {
     "name": "stdout",
     "output_type": "stream",
     "text": [
      "+-------------+-----------------+---------+-----+----------+-------------------+\n",
      "|UniqueCarrier|              _c1|DayOfWeek|count|sum(count)|   normalized_count|\n",
      "+-------------+-----------------+---------+-----+----------+-------------------+\n",
      "|           AA|American Airlines|        1| 5117|     26291| 0.1946293408390704|\n",
      "|           AA|American Airlines|        2| 3688|     26291| 0.1402761401239968|\n",
      "|           AA|American Airlines|        3| 2941|     26291|0.11186337529953216|\n",
      "|           AA|American Airlines|        4| 3575|     26291|0.13597809136206307|\n",
      "|           AA|American Airlines|        5| 3525|     26291|0.13407629987448177|\n",
      "|           AA|American Airlines|        6| 2800|     26291|0.10650032330455289|\n",
      "|           AA|American Airlines|        7| 4645|     26291|0.17667642919630291|\n",
      "|           AS|  Alaska Airlines|        1|  872|      4966|  0.175594039468385|\n",
      "|           AS|  Alaska Airlines|        2|  669|      4966| 0.1347160692710431|\n",
      "|           AS|  Alaska Airlines|        3|  618|      4966|0.12444623439387838|\n",
      "|           AS|  Alaska Airlines|        4|  728|      4966|0.14659685863874344|\n",
      "|           AS|  Alaska Airlines|        5|  630|      4966|0.12686266612968183|\n",
      "|           AS|  Alaska Airlines|        6|  517|      4966|0.10410793395086589|\n",
      "|           AS|  Alaska Airlines|        7|  932|      4966|0.18767619814740233|\n",
      "|           B6|  JetBlue Airways|        1| 1892|     10406|0.18181818181818182|\n",
      "|           B6|  JetBlue Airways|        2| 1787|     10406|0.17172784931770133|\n",
      "|           B6|  JetBlue Airways|        3| 1253|     10406|0.12041130117240054|\n",
      "|           B6|  JetBlue Airways|        4| 1254|     10406|0.12050739957716702|\n",
      "|           B6|  JetBlue Airways|        5| 1309|     10406|0.12579281183932348|\n",
      "|           B6|  JetBlue Airways|        6| 1027|     10406|0.09869306169517586|\n",
      "+-------------+-----------------+---------+-----+----------+-------------------+\n",
      "only showing top 20 rows\n",
      "\n",
      "+-------------+-----------------+---------+-----+----------+-------------------+\n",
      "|UniqueCarrier|              _c1|DayOfWeek|count|sum(count)|   normalized_count|\n",
      "+-------------+-----------------+---------+-----+----------+-------------------+\n",
      "|           AA|American Airlines|        1| 5117|     26291| 0.1946293408390704|\n",
      "|           AA|American Airlines|        2| 3688|     26291| 0.1402761401239968|\n",
      "|           AA|American Airlines|        3| 2941|     26291|0.11186337529953216|\n",
      "|           AA|American Airlines|        4| 3575|     26291|0.13597809136206307|\n",
      "|           AA|American Airlines|        5| 3525|     26291|0.13407629987448177|\n",
      "|           AA|American Airlines|        6| 2800|     26291|0.10650032330455289|\n",
      "|           AA|American Airlines|        7| 4645|     26291|0.17667642919630291|\n",
      "|           AS|  Alaska Airlines|        1|  872|      4966|  0.175594039468385|\n",
      "|           AS|  Alaska Airlines|        2|  669|      4966| 0.1347160692710431|\n",
      "|           AS|  Alaska Airlines|        3|  618|      4966|0.12444623439387838|\n",
      "|           AS|  Alaska Airlines|        4|  728|      4966|0.14659685863874344|\n",
      "|           AS|  Alaska Airlines|        5|  630|      4966|0.12686266612968183|\n",
      "|           AS|  Alaska Airlines|        6|  517|      4966|0.10410793395086589|\n",
      "|           AS|  Alaska Airlines|        7|  932|      4966|0.18767619814740233|\n",
      "|           B6|  JetBlue Airways|        1| 1892|     10406|0.18181818181818182|\n",
      "|           B6|  JetBlue Airways|        2| 1787|     10406|0.17172784931770133|\n",
      "|           B6|  JetBlue Airways|        3| 1253|     10406|0.12041130117240054|\n",
      "|           B6|  JetBlue Airways|        4| 1254|     10406|0.12050739957716702|\n",
      "|           B6|  JetBlue Airways|        5| 1309|     10406|0.12579281183932348|\n",
      "|           B6|  JetBlue Airways|        6| 1027|     10406|0.09869306169517586|\n",
      "+-------------+-----------------+---------+-----+----------+-------------------+\n",
      "only showing top 20 rows\n",
      "\n",
      "+-------------+-----------------+---------+-----+----------+-------------------+\n",
      "|UniqueCarrier|              _c1|DayOfWeek|count|sum(count)|   normalized_count|\n",
      "+-------------+-----------------+---------+-----+----------+-------------------+\n",
      "|           AA|American Airlines|        1| 5117|     26291| 0.1946293408390704|\n",
      "|           AA|American Airlines|        2| 3688|     26291| 0.1402761401239968|\n",
      "|           AA|American Airlines|        3| 2941|     26291|0.11186337529953216|\n",
      "|           AA|American Airlines|        4| 3575|     26291|0.13597809136206307|\n",
      "|           AA|American Airlines|        5| 3525|     26291|0.13407629987448177|\n",
      "|           AA|American Airlines|        6| 2800|     26291|0.10650032330455289|\n",
      "|           AA|American Airlines|        7| 4645|     26291|0.17667642919630291|\n",
      "|           AS|  Alaska Airlines|        1|  872|      4966|  0.175594039468385|\n",
      "|           AS|  Alaska Airlines|        2|  669|      4966| 0.1347160692710431|\n",
      "|           AS|  Alaska Airlines|        3|  618|      4966|0.12444623439387838|\n",
      "|           AS|  Alaska Airlines|        4|  728|      4966|0.14659685863874344|\n",
      "|           AS|  Alaska Airlines|        5|  630|      4966|0.12686266612968183|\n",
      "|           AS|  Alaska Airlines|        6|  517|      4966|0.10410793395086589|\n",
      "|           AS|  Alaska Airlines|        7|  932|      4966|0.18767619814740233|\n",
      "|           B6|  JetBlue Airways|        1| 1892|     10406|0.18181818181818182|\n",
      "|           B6|  JetBlue Airways|        2| 1787|     10406|0.17172784931770133|\n",
      "|           B6|  JetBlue Airways|        3| 1253|     10406|0.12041130117240054|\n",
      "|           B6|  JetBlue Airways|        4| 1254|     10406|0.12050739957716702|\n",
      "|           B6|  JetBlue Airways|        5| 1309|     10406|0.12579281183932348|\n",
      "|           B6|  JetBlue Airways|        6| 1027|     10406|0.09869306169517586|\n",
      "+-------------+-----------------+---------+-----+----------+-------------------+\n",
      "only showing top 20 rows\n",
      "\n",
      "925 ms ± 44.7 ms per loop (mean ± std. dev. of 7 runs, 1 loop each)\n"
     ]
    }
   ],
   "source": [
    "%%timeit\n",
    "\n",
    "joined_df = flight_info_df.join(airlines_info, flight_info_df.UniqueCarrier == airlines_info._c3, 'inner')\n",
    "delays_df = joined_df \\\n",
    "    .where(flight_info_df[\"DepTime\"] > flight_info_df[\"CRSDepTime\"]) \\\n",
    "    .groupBy('_c1', 'UniqueCarrier', 'DayOfWeek') \\\n",
    "    .count()\n",
    "\n",
    "total_delays_by_airline = delays_df \\\n",
    "    .groupBy('UniqueCarrier') \\\n",
    "    .sum()\n",
    "\n",
    "normalized_df = delay_count_df \\\n",
    "                .join(total_delays_by_airline, ['UniqueCarrier']) \\\n",
    "                .withColumn(\"normalized_count\", F.col('count') / F.col('sum(count)'))\n",
    "normalized_df.orderBy('UniqueCarrier', 'DayOfWeek', ascending=True).show()"
   ]
  },
  {
   "cell_type": "markdown",
   "id": "604e85e0",
   "metadata": {},
   "source": [
    "### Q26 \n",
    "\n",
    "Use one of the techniques covered in class to accelerate this query. Time your query to see by how much the run time was improved"
   ]
  },
  {
   "cell_type": "code",
   "execution_count": 503,
   "id": "2e951d64",
   "metadata": {},
   "outputs": [
    {
     "name": "stdout",
     "output_type": "stream",
     "text": [
      "+-------------+-----------------+---------+-----+----------+-------------------+\n",
      "|UniqueCarrier|              _c1|DayOfWeek|count|sum(count)|   normalized_count|\n",
      "+-------------+-----------------+---------+-----+----------+-------------------+\n",
      "|           AA|American Airlines|        1| 5117|     26291| 0.1946293408390704|\n",
      "|           AA|American Airlines|        2| 3688|     26291| 0.1402761401239968|\n",
      "|           AA|American Airlines|        3| 2941|     26291|0.11186337529953216|\n",
      "|           AA|American Airlines|        4| 3575|     26291|0.13597809136206307|\n",
      "|           AA|American Airlines|        5| 3525|     26291|0.13407629987448177|\n",
      "|           AA|American Airlines|        6| 2800|     26291|0.10650032330455289|\n",
      "|           AA|American Airlines|        7| 4645|     26291|0.17667642919630291|\n",
      "|           AS|  Alaska Airlines|        1|  872|      4966|  0.175594039468385|\n",
      "|           AS|  Alaska Airlines|        2|  669|      4966| 0.1347160692710431|\n",
      "|           AS|  Alaska Airlines|        3|  618|      4966|0.12444623439387838|\n",
      "|           AS|  Alaska Airlines|        4|  728|      4966|0.14659685863874344|\n",
      "|           AS|  Alaska Airlines|        5|  630|      4966|0.12686266612968183|\n",
      "|           AS|  Alaska Airlines|        6|  517|      4966|0.10410793395086589|\n",
      "|           AS|  Alaska Airlines|        7|  932|      4966|0.18767619814740233|\n",
      "|           B6|  JetBlue Airways|        1| 1892|     10406|0.18181818181818182|\n",
      "|           B6|  JetBlue Airways|        2| 1787|     10406|0.17172784931770133|\n",
      "|           B6|  JetBlue Airways|        3| 1253|     10406|0.12041130117240054|\n",
      "|           B6|  JetBlue Airways|        4| 1254|     10406|0.12050739957716702|\n",
      "|           B6|  JetBlue Airways|        5| 1309|     10406|0.12579281183932348|\n",
      "|           B6|  JetBlue Airways|        6| 1027|     10406|0.09869306169517586|\n",
      "+-------------+-----------------+---------+-----+----------+-------------------+\n",
      "only showing top 20 rows\n",
      "\n",
      "+-------------+-----------------+---------+-----+----------+-------------------+\n",
      "|UniqueCarrier|              _c1|DayOfWeek|count|sum(count)|   normalized_count|\n",
      "+-------------+-----------------+---------+-----+----------+-------------------+\n",
      "|           AA|American Airlines|        1| 5117|     26291| 0.1946293408390704|\n",
      "|           AA|American Airlines|        2| 3688|     26291| 0.1402761401239968|\n",
      "|           AA|American Airlines|        3| 2941|     26291|0.11186337529953216|\n",
      "|           AA|American Airlines|        4| 3575|     26291|0.13597809136206307|\n",
      "|           AA|American Airlines|        5| 3525|     26291|0.13407629987448177|\n",
      "|           AA|American Airlines|        6| 2800|     26291|0.10650032330455289|\n",
      "|           AA|American Airlines|        7| 4645|     26291|0.17667642919630291|\n",
      "|           AS|  Alaska Airlines|        1|  872|      4966|  0.175594039468385|\n",
      "|           AS|  Alaska Airlines|        2|  669|      4966| 0.1347160692710431|\n",
      "|           AS|  Alaska Airlines|        3|  618|      4966|0.12444623439387838|\n",
      "|           AS|  Alaska Airlines|        4|  728|      4966|0.14659685863874344|\n",
      "|           AS|  Alaska Airlines|        5|  630|      4966|0.12686266612968183|\n",
      "|           AS|  Alaska Airlines|        6|  517|      4966|0.10410793395086589|\n",
      "|           AS|  Alaska Airlines|        7|  932|      4966|0.18767619814740233|\n",
      "|           B6|  JetBlue Airways|        1| 1892|     10406|0.18181818181818182|\n",
      "|           B6|  JetBlue Airways|        2| 1787|     10406|0.17172784931770133|\n",
      "|           B6|  JetBlue Airways|        3| 1253|     10406|0.12041130117240054|\n",
      "|           B6|  JetBlue Airways|        4| 1254|     10406|0.12050739957716702|\n",
      "|           B6|  JetBlue Airways|        5| 1309|     10406|0.12579281183932348|\n",
      "|           B6|  JetBlue Airways|        6| 1027|     10406|0.09869306169517586|\n",
      "+-------------+-----------------+---------+-----+----------+-------------------+\n",
      "only showing top 20 rows\n",
      "\n",
      "+-------------+-----------------+---------+-----+----------+-------------------+\n",
      "|UniqueCarrier|              _c1|DayOfWeek|count|sum(count)|   normalized_count|\n",
      "+-------------+-----------------+---------+-----+----------+-------------------+\n",
      "|           AA|American Airlines|        1| 5117|     26291| 0.1946293408390704|\n",
      "|           AA|American Airlines|        2| 3688|     26291| 0.1402761401239968|\n",
      "|           AA|American Airlines|        3| 2941|     26291|0.11186337529953216|\n",
      "|           AA|American Airlines|        4| 3575|     26291|0.13597809136206307|\n",
      "|           AA|American Airlines|        5| 3525|     26291|0.13407629987448177|\n",
      "|           AA|American Airlines|        6| 2800|     26291|0.10650032330455289|\n",
      "|           AA|American Airlines|        7| 4645|     26291|0.17667642919630291|\n",
      "|           AS|  Alaska Airlines|        1|  872|      4966|  0.175594039468385|\n",
      "|           AS|  Alaska Airlines|        2|  669|      4966| 0.1347160692710431|\n",
      "|           AS|  Alaska Airlines|        3|  618|      4966|0.12444623439387838|\n",
      "|           AS|  Alaska Airlines|        4|  728|      4966|0.14659685863874344|\n",
      "|           AS|  Alaska Airlines|        5|  630|      4966|0.12686266612968183|\n",
      "|           AS|  Alaska Airlines|        6|  517|      4966|0.10410793395086589|\n",
      "|           AS|  Alaska Airlines|        7|  932|      4966|0.18767619814740233|\n",
      "|           B6|  JetBlue Airways|        1| 1892|     10406|0.18181818181818182|\n",
      "|           B6|  JetBlue Airways|        2| 1787|     10406|0.17172784931770133|\n",
      "|           B6|  JetBlue Airways|        3| 1253|     10406|0.12041130117240054|\n",
      "|           B6|  JetBlue Airways|        4| 1254|     10406|0.12050739957716702|\n",
      "|           B6|  JetBlue Airways|        5| 1309|     10406|0.12579281183932348|\n",
      "|           B6|  JetBlue Airways|        6| 1027|     10406|0.09869306169517586|\n",
      "+-------------+-----------------+---------+-----+----------+-------------------+\n",
      "only showing top 20 rows\n",
      "\n",
      "+-------------+-----------------+---------+-----+----------+-------------------+\n",
      "|UniqueCarrier|              _c1|DayOfWeek|count|sum(count)|   normalized_count|\n",
      "+-------------+-----------------+---------+-----+----------+-------------------+\n",
      "|           AA|American Airlines|        1| 5117|     26291| 0.1946293408390704|\n",
      "|           AA|American Airlines|        2| 3688|     26291| 0.1402761401239968|\n",
      "|           AA|American Airlines|        3| 2941|     26291|0.11186337529953216|\n",
      "|           AA|American Airlines|        4| 3575|     26291|0.13597809136206307|\n",
      "|           AA|American Airlines|        5| 3525|     26291|0.13407629987448177|\n",
      "|           AA|American Airlines|        6| 2800|     26291|0.10650032330455289|\n",
      "|           AA|American Airlines|        7| 4645|     26291|0.17667642919630291|\n",
      "|           AS|  Alaska Airlines|        1|  872|      4966|  0.175594039468385|\n",
      "|           AS|  Alaska Airlines|        2|  669|      4966| 0.1347160692710431|\n",
      "|           AS|  Alaska Airlines|        3|  618|      4966|0.12444623439387838|\n",
      "|           AS|  Alaska Airlines|        4|  728|      4966|0.14659685863874344|\n",
      "|           AS|  Alaska Airlines|        5|  630|      4966|0.12686266612968183|\n",
      "|           AS|  Alaska Airlines|        6|  517|      4966|0.10410793395086589|\n",
      "|           AS|  Alaska Airlines|        7|  932|      4966|0.18767619814740233|\n",
      "|           B6|  JetBlue Airways|        1| 1892|     10406|0.18181818181818182|\n",
      "|           B6|  JetBlue Airways|        2| 1787|     10406|0.17172784931770133|\n",
      "|           B6|  JetBlue Airways|        3| 1253|     10406|0.12041130117240054|\n",
      "|           B6|  JetBlue Airways|        4| 1254|     10406|0.12050739957716702|\n",
      "|           B6|  JetBlue Airways|        5| 1309|     10406|0.12579281183932348|\n",
      "|           B6|  JetBlue Airways|        6| 1027|     10406|0.09869306169517586|\n",
      "+-------------+-----------------+---------+-----+----------+-------------------+\n",
      "only showing top 20 rows\n",
      "\n",
      "+-------------+-----------------+---------+-----+----------+-------------------+\n",
      "|UniqueCarrier|              _c1|DayOfWeek|count|sum(count)|   normalized_count|\n",
      "+-------------+-----------------+---------+-----+----------+-------------------+\n",
      "|           AA|American Airlines|        1| 5117|     26291| 0.1946293408390704|\n",
      "|           AA|American Airlines|        2| 3688|     26291| 0.1402761401239968|\n",
      "|           AA|American Airlines|        3| 2941|     26291|0.11186337529953216|\n",
      "|           AA|American Airlines|        4| 3575|     26291|0.13597809136206307|\n",
      "|           AA|American Airlines|        5| 3525|     26291|0.13407629987448177|\n",
      "|           AA|American Airlines|        6| 2800|     26291|0.10650032330455289|\n",
      "|           AA|American Airlines|        7| 4645|     26291|0.17667642919630291|\n",
      "|           AS|  Alaska Airlines|        1|  872|      4966|  0.175594039468385|\n",
      "|           AS|  Alaska Airlines|        2|  669|      4966| 0.1347160692710431|\n",
      "|           AS|  Alaska Airlines|        3|  618|      4966|0.12444623439387838|\n",
      "|           AS|  Alaska Airlines|        4|  728|      4966|0.14659685863874344|\n",
      "|           AS|  Alaska Airlines|        5|  630|      4966|0.12686266612968183|\n",
      "|           AS|  Alaska Airlines|        6|  517|      4966|0.10410793395086589|\n",
      "|           AS|  Alaska Airlines|        7|  932|      4966|0.18767619814740233|\n",
      "|           B6|  JetBlue Airways|        1| 1892|     10406|0.18181818181818182|\n",
      "|           B6|  JetBlue Airways|        2| 1787|     10406|0.17172784931770133|\n",
      "|           B6|  JetBlue Airways|        3| 1253|     10406|0.12041130117240054|\n",
      "|           B6|  JetBlue Airways|        4| 1254|     10406|0.12050739957716702|\n",
      "|           B6|  JetBlue Airways|        5| 1309|     10406|0.12579281183932348|\n",
      "|           B6|  JetBlue Airways|        6| 1027|     10406|0.09869306169517586|\n",
      "+-------------+-----------------+---------+-----+----------+-------------------+\n",
      "only showing top 20 rows\n",
      "\n"
     ]
    },
    {
     "name": "stdout",
     "output_type": "stream",
     "text": [
      "+-------------+-----------------+---------+-----+----------+-------------------+\n",
      "|UniqueCarrier|              _c1|DayOfWeek|count|sum(count)|   normalized_count|\n",
      "+-------------+-----------------+---------+-----+----------+-------------------+\n",
      "|           AA|American Airlines|        1| 5117|     26291| 0.1946293408390704|\n",
      "|           AA|American Airlines|        2| 3688|     26291| 0.1402761401239968|\n",
      "|           AA|American Airlines|        3| 2941|     26291|0.11186337529953216|\n",
      "|           AA|American Airlines|        4| 3575|     26291|0.13597809136206307|\n",
      "|           AA|American Airlines|        5| 3525|     26291|0.13407629987448177|\n",
      "|           AA|American Airlines|        6| 2800|     26291|0.10650032330455289|\n",
      "|           AA|American Airlines|        7| 4645|     26291|0.17667642919630291|\n",
      "|           AS|  Alaska Airlines|        1|  872|      4966|  0.175594039468385|\n",
      "|           AS|  Alaska Airlines|        2|  669|      4966| 0.1347160692710431|\n",
      "|           AS|  Alaska Airlines|        3|  618|      4966|0.12444623439387838|\n",
      "|           AS|  Alaska Airlines|        4|  728|      4966|0.14659685863874344|\n",
      "|           AS|  Alaska Airlines|        5|  630|      4966|0.12686266612968183|\n",
      "|           AS|  Alaska Airlines|        6|  517|      4966|0.10410793395086589|\n",
      "|           AS|  Alaska Airlines|        7|  932|      4966|0.18767619814740233|\n",
      "|           B6|  JetBlue Airways|        1| 1892|     10406|0.18181818181818182|\n",
      "|           B6|  JetBlue Airways|        2| 1787|     10406|0.17172784931770133|\n",
      "|           B6|  JetBlue Airways|        3| 1253|     10406|0.12041130117240054|\n",
      "|           B6|  JetBlue Airways|        4| 1254|     10406|0.12050739957716702|\n",
      "|           B6|  JetBlue Airways|        5| 1309|     10406|0.12579281183932348|\n",
      "|           B6|  JetBlue Airways|        6| 1027|     10406|0.09869306169517586|\n",
      "+-------------+-----------------+---------+-----+----------+-------------------+\n",
      "only showing top 20 rows\n",
      "\n",
      "+-------------+-----------------+---------+-----+----------+-------------------+\n",
      "|UniqueCarrier|              _c1|DayOfWeek|count|sum(count)|   normalized_count|\n",
      "+-------------+-----------------+---------+-----+----------+-------------------+\n",
      "|           AA|American Airlines|        1| 5117|     26291| 0.1946293408390704|\n",
      "|           AA|American Airlines|        2| 3688|     26291| 0.1402761401239968|\n",
      "|           AA|American Airlines|        3| 2941|     26291|0.11186337529953216|\n",
      "|           AA|American Airlines|        4| 3575|     26291|0.13597809136206307|\n",
      "|           AA|American Airlines|        5| 3525|     26291|0.13407629987448177|\n",
      "|           AA|American Airlines|        6| 2800|     26291|0.10650032330455289|\n",
      "|           AA|American Airlines|        7| 4645|     26291|0.17667642919630291|\n",
      "|           AS|  Alaska Airlines|        1|  872|      4966|  0.175594039468385|\n",
      "|           AS|  Alaska Airlines|        2|  669|      4966| 0.1347160692710431|\n",
      "|           AS|  Alaska Airlines|        3|  618|      4966|0.12444623439387838|\n",
      "|           AS|  Alaska Airlines|        4|  728|      4966|0.14659685863874344|\n",
      "|           AS|  Alaska Airlines|        5|  630|      4966|0.12686266612968183|\n",
      "|           AS|  Alaska Airlines|        6|  517|      4966|0.10410793395086589|\n",
      "|           AS|  Alaska Airlines|        7|  932|      4966|0.18767619814740233|\n",
      "|           B6|  JetBlue Airways|        1| 1892|     10406|0.18181818181818182|\n",
      "|           B6|  JetBlue Airways|        2| 1787|     10406|0.17172784931770133|\n",
      "|           B6|  JetBlue Airways|        3| 1253|     10406|0.12041130117240054|\n",
      "|           B6|  JetBlue Airways|        4| 1254|     10406|0.12050739957716702|\n",
      "|           B6|  JetBlue Airways|        5| 1309|     10406|0.12579281183932348|\n",
      "|           B6|  JetBlue Airways|        6| 1027|     10406|0.09869306169517586|\n",
      "+-------------+-----------------+---------+-----+----------+-------------------+\n",
      "only showing top 20 rows\n",
      "\n",
      "+-------------+-----------------+---------+-----+----------+-------------------+\n",
      "|UniqueCarrier|              _c1|DayOfWeek|count|sum(count)|   normalized_count|\n",
      "+-------------+-----------------+---------+-----+----------+-------------------+\n",
      "|           AA|American Airlines|        1| 5117|     26291| 0.1946293408390704|\n",
      "|           AA|American Airlines|        2| 3688|     26291| 0.1402761401239968|\n",
      "|           AA|American Airlines|        3| 2941|     26291|0.11186337529953216|\n",
      "|           AA|American Airlines|        4| 3575|     26291|0.13597809136206307|\n",
      "|           AA|American Airlines|        5| 3525|     26291|0.13407629987448177|\n",
      "|           AA|American Airlines|        6| 2800|     26291|0.10650032330455289|\n",
      "|           AA|American Airlines|        7| 4645|     26291|0.17667642919630291|\n",
      "|           AS|  Alaska Airlines|        1|  872|      4966|  0.175594039468385|\n",
      "|           AS|  Alaska Airlines|        2|  669|      4966| 0.1347160692710431|\n",
      "|           AS|  Alaska Airlines|        3|  618|      4966|0.12444623439387838|\n",
      "|           AS|  Alaska Airlines|        4|  728|      4966|0.14659685863874344|\n",
      "|           AS|  Alaska Airlines|        5|  630|      4966|0.12686266612968183|\n",
      "|           AS|  Alaska Airlines|        6|  517|      4966|0.10410793395086589|\n",
      "|           AS|  Alaska Airlines|        7|  932|      4966|0.18767619814740233|\n",
      "|           B6|  JetBlue Airways|        1| 1892|     10406|0.18181818181818182|\n",
      "|           B6|  JetBlue Airways|        2| 1787|     10406|0.17172784931770133|\n",
      "|           B6|  JetBlue Airways|        3| 1253|     10406|0.12041130117240054|\n",
      "|           B6|  JetBlue Airways|        4| 1254|     10406|0.12050739957716702|\n",
      "|           B6|  JetBlue Airways|        5| 1309|     10406|0.12579281183932348|\n",
      "|           B6|  JetBlue Airways|        6| 1027|     10406|0.09869306169517586|\n",
      "+-------------+-----------------+---------+-----+----------+-------------------+\n",
      "only showing top 20 rows\n",
      "\n",
      "263 ms ± 18.9 ms per loop (mean ± std. dev. of 7 runs, 1 loop each)\n"
     ]
    }
   ],
   "source": [
    "%%timeit\n",
    "\n",
    "joined_df = flight_info_df.join(airlines_info, flight_info_df.UniqueCarrier == airlines_info._c3, 'inner')\n",
    "joined_df = joined_df.coalesce(1)\n",
    "\n",
    "delays_df = joined_df \\\n",
    "    .where(flight_info_df[\"DepTime\"] > flight_info_df[\"CRSDepTime\"]) \\\n",
    "    .groupBy('_c1', 'UniqueCarrier', 'DayOfWeek') \\\n",
    "    .count()\n",
    "\n",
    "total_delays_by_airline = delays_df \\\n",
    "    .groupBy('UniqueCarrier') \\\n",
    "    .sum()\n",
    "\n",
    "normalized_df = delay_count_df \\\n",
    "                .join(total_delays_by_airline, ['UniqueCarrier']) \\\n",
    "                .withColumn(\"normalized_count\", F.col('count') / F.col('sum(count)'))\n",
    "\n",
    "normalized_df.orderBy('UniqueCarrier', 'DayOfWeek', ascending=True).show()"
   ]
  },
  {
   "cell_type": "markdown",
   "id": "8a87a433",
   "metadata": {},
   "source": [
    "### Q27 \n",
    "\n",
    "Is the departure delay (i.e., DepTime - CRSDepTime) predictive of the arrival delay (ArrTime > CRSArrTime)?\n",
    "Use an approach of your choice (e.g. `skelearn` which we covered in class or `Spark`) to model as a linear regression the arrival delay as a function of the departure delay. \n",
    "\n"
   ]
  },
  {
   "cell_type": "code",
   "execution_count": 651,
   "id": "f8dbd52d",
   "metadata": {},
   "outputs": [
    {
     "ename": "TypeError",
     "evalue": "strptime() argument 1 must be str, not Column",
     "output_type": "error",
     "traceback": [
      "\u001b[0;31m---------------------------------------------------------------------------\u001b[0m",
      "\u001b[0;31mTypeError\u001b[0m                                 Traceback (most recent call last)",
      "\u001b[0;32m/tmp/ipykernel_673/3837625208.py\u001b[0m in \u001b[0;36m<module>\u001b[0;34m\u001b[0m\n\u001b[1;32m     11\u001b[0m \u001b[0;34m\u001b[0m\u001b[0m\n\u001b[1;32m     12\u001b[0m delays_df = delays_df.withColumn(\n\u001b[0;32m---> 13\u001b[0;31m   \"DepTimeUNIX\", militaryTimeToMins(delays_df.DepTime))\n\u001b[0m\u001b[1;32m     14\u001b[0m \u001b[0;34m\u001b[0m\u001b[0m\n\u001b[1;32m     15\u001b[0m \u001b[0mdelays_df\u001b[0m\u001b[0;34m.\u001b[0m\u001b[0mshow\u001b[0m\u001b[0;34m(\u001b[0m\u001b[0;36m5\u001b[0m\u001b[0;34m)\u001b[0m\u001b[0;34m\u001b[0m\u001b[0;34m\u001b[0m\u001b[0m\n",
      "\u001b[0;32m/tmp/ipykernel_673/3837625208.py\u001b[0m in \u001b[0;36mmilitaryTimeToMins\u001b[0;34m(date_time_str)\u001b[0m\n\u001b[1;32m      7\u001b[0m \u001b[0;32mfrom\u001b[0m \u001b[0mdatetime\u001b[0m \u001b[0;32mimport\u001b[0m \u001b[0mdatetime\u001b[0m\u001b[0;34m\u001b[0m\u001b[0;34m\u001b[0m\u001b[0m\n\u001b[1;32m      8\u001b[0m \u001b[0;32mdef\u001b[0m \u001b[0mmilitaryTimeToMins\u001b[0m\u001b[0;34m(\u001b[0m\u001b[0mdate_time_str\u001b[0m\u001b[0;34m)\u001b[0m\u001b[0;34m:\u001b[0m\u001b[0;34m\u001b[0m\u001b[0;34m\u001b[0m\u001b[0m\n\u001b[0;32m----> 9\u001b[0;31m     \u001b[0;32mreturn\u001b[0m \u001b[0mdatetime\u001b[0m\u001b[0;34m.\u001b[0m\u001b[0mstrptime\u001b[0m\u001b[0;34m(\u001b[0m\u001b[0mdate_time_str\u001b[0m\u001b[0;34m,\u001b[0m \u001b[0;34m'%H%M'\u001b[0m\u001b[0;34m)\u001b[0m\u001b[0;34m\u001b[0m\u001b[0;34m\u001b[0m\u001b[0m\n\u001b[0m\u001b[1;32m     10\u001b[0m \u001b[0;34m\u001b[0m\u001b[0m\n\u001b[1;32m     11\u001b[0m \u001b[0;34m\u001b[0m\u001b[0m\n",
      "\u001b[0;31mTypeError\u001b[0m: strptime() argument 1 must be str, not Column"
     ]
    }
   ],
   "source": [
    "\n",
    "from pyspark.ml.regression import LinearRegression\n",
    "\n",
    "# Load all delays\n",
    "delays_df = joined_df \\\n",
    "    .where(flight_info_df[\"DepTime\"] > flight_info_df[\"CRSDepTime\"])\n",
    "\n",
    "\n",
    "# Compute departure and arrival delays\n",
    "delays_df = delays_df.withColumn(\"dep_delay\", F.col('DepTime') - F.col('CRSDepTime'))\n",
    "delays_df = delays_df.withColumn(\"arr_delay\", F.col('ArrTime') - F.col('CRSArrTime'))\n",
    "\n",
    "delays_df.select(['DepTime', 'ArrTime']).show()\n",
    "# Assemble feature vector\n",
    "from pyspark.ml.feature import VectorAssembler\n",
    "vA = VectorAssembler(inputCols = ['dep_delay'], outputCol = 'features')\n",
    "features_df = vA.transform(delays_df)\n",
    "features_df = features_df.select(['features', 'arr_delay'])\n",
    "features_df = features_df.dropna()\n",
    "\n",
    "# split training and test 80/20\n",
    "training, testing = features_df.randomSplit([0.8, 0.2])\n",
    "\n",
    "# zip lists together so we have a list of tuples with (departure delay, arrival delay)\n",
    "lr = LinearRegression(featuresCol = 'features',\n",
    "                      labelCol='arr_delay',\n",
    "                      maxIter=15,\n",
    "                      regParam=0.3,\n",
    "                      elasticNetParam=0.8)\n",
    "\n",
    "lr_model = lr.fit(training)\n",
    "\n",
    "from pyspark.ml.evaluation import RegressionEvaluator\n",
    "lr_pred = lr_model.transform(testing)\n",
    "lr_evaluator = RegressionEvaluator(predictionCol=\"prediction\", \\\n",
    "                 labelCol=\"arr_delay\",metricName=\"rmse\")\n",
    "\n",
    "print(\"RMSE on training: %f\" % lr_model.summary.rootMeanSquaredError)\n",
    "print(\"RMSE on testing data = %f\" % lr_evaluator.evaluate(lr_pred))\n",
    "\n",
    "\n",
    "# The departure delay is not a good predictor for arrival delay"
   ]
  }
 ],
 "metadata": {
  "kernelspec": {
   "display_name": "Python 3 (ipykernel)",
   "language": "python",
   "name": "python3"
  },
  "language_info": {
   "codemirror_mode": {
    "name": "ipython",
    "version": 3
   },
   "file_extension": ".py",
   "mimetype": "text/x-python",
   "name": "python",
   "nbconvert_exporter": "python",
   "pygments_lexer": "ipython3",
   "version": "3.9.7"
  }
 },
 "nbformat": 4,
 "nbformat_minor": 5
}
